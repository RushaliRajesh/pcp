{
 "cells": [
  {
   "cell_type": "code",
   "execution_count": 1,
   "metadata": {},
   "outputs": [
    {
     "name": "stdout",
     "output_type": "stream",
     "text": [
      "Jupyter environment detected. Enabling Open3D WebVisualizer.\n",
      "[Open3D INFO] WebRTC GUI backend enabled.\n",
      "[Open3D INFO] WebRTCWindowSystem: HTTP handshake server disabled.\n"
     ]
    }
   ],
   "source": [
    "import numpy as np\n",
    "import ckwrap\n",
    "from normals_init import find_neighs"
   ]
  },
  {
   "cell_type": "code",
   "execution_count": 28,
   "metadata": {},
   "outputs": [],
   "source": [
    "all_pts = np.load(\"xyz_points.npy\")\n",
    "all_norms = np.load(\"init_normals.npy\")"
   ]
  },
  {
   "cell_type": "code",
   "execution_count": 55,
   "metadata": {},
   "outputs": [
    {
     "name": "stdout",
     "output_type": "stream",
     "text": [
      "neighs shape:  (100000, 250, 3)\n",
      "labels shape:  (100000, 250)\n",
      "ind_clus shape:  (24,)\n",
      "crs_pdts shape:  (24, 3)\n",
      "orient shape:  (24,)\n",
      "area shape:  (24,)\n"
     ]
    }
   ],
   "source": [
    "'''creating patches via clustering'''\n",
    "\n",
    "def process_one_pcd(pts, norms, main_ind):\n",
    "    dists_ori, indices_ori = find_neighs(pts)\n",
    "    neighs = pts[indices_ori]\n",
    "    print(\"neighs shape: \", neighs.shape)\n",
    "    labels_per_row = np.apply_along_axis(lambda row: ckwrap.ckmeans(row, 5).labels, 1, dists_ori)\n",
    "    print(\"labels shape: \",labels_per_row.shape)\n",
    "    for i,( ind, labels) in enumerate(zip(indices_ori, labels_per_row)):\n",
    "        center = pts[i]\n",
    "        for clus in np.unique(labels_per_row[0]):\n",
    "            ind_clus = ind[np.where(labels == clus)]\n",
    "            print(\"ind_clus shape: \",ind_clus.shape)\n",
    "            coords = pts[ind_clus]\n",
    "\n",
    "            vec2 = np.subtract(center,coords)\n",
    "            closest_ind = np.argmin(np.linalg.norm(vec2, axis=1))\n",
    "            closest = coords[closest_ind]\n",
    "            vec2 = np.delete(coords, closest_ind, axis=0)\n",
    "            vec1 = np.subtract(center, closest)\n",
    "            \n",
    "            crs_pdts = np.cross(vec1, vec2) #check done, works as intented\n",
    "            print(\"crs_pdts shape: \",crs_pdts.shape)\n",
    "            area = np.linalg.norm(crs_pdts, axis=1)\n",
    "            dot_pdts = np.dot(crs_pdts, norms[i]) #check done, works as intented\n",
    "            sign = np.divide(dot_pdts, np.abs(dot_pdts), dtype='int')\n",
    "            print(\"dot_pdts shape: \",dot_pdts.shape)\n",
    "            print(\"area shape: \",area.shape)\n",
    "            area = np.multiply(area, sign)\n",
    "            sort_indices = np.argsort(area)\n",
    "            # area, orient, ind_clus = area[sort_indices], orient[sort_indices], ind_clus[sort_indices]\n",
    "            # coords_sorted= pts[ind_clus]\n",
    "            sorted_coords = coords[sort_indices]\n",
    "            if(sorted_coords.shape[0] < 25):\n",
    "                sorted_coords = np.concatenate((sorted_coords, np.zeros((25-sorted_coords.shape[0], 3))))\n",
    "            else :\n",
    "                sorted_coords = sorted_coords[:25]\n",
    "            \n",
    "            # return dot_pdts, area, crs_pdts, coords, sorted_coords\n",
    "            mat.append(sorted_coords)\n",
    "        mat = np.array(mat)\n",
    "        np.save(\"patches/pcd_\"+str(main_ind)+\"/pnt_\"+str(i)+\".npy\", mat)\n",
    "            # break\n",
    "        break\n",
    "\n",
    "\n",
    "o, a, cp, co, co_s, co_chk = process_one_pcd(all_pts[0], all_norms[0])"
   ]
  },
  {
   "cell_type": "code",
   "execution_count": 61,
   "metadata": {},
   "outputs": [],
   "source": [
    "'''creating patches via clustering'''\n",
    "\n",
    "def process_one_pcd(pts, norms):\n",
    "    dists_ori, indices_ori = find_neighs(pts)\n",
    "    neighs = pts[indices_ori]\n",
    "    labels_per_row = np.apply_along_axis(lambda row: ckwrap.ckmeans(row, 5).labels, 1, dists_ori)\n",
    "    mat = [[] for _ in np.unique(labels_per_row[0])]\n",
    "    for i,( ind, labels) in enumerate(zip(indices_ori, labels_per_row)):\n",
    "        for clus in np.unique(labels_per_row[0]):\n",
    "            ind_clus = ind[np.where(labels == clus)]\n",
    "            coords = pts[ind_clus]\n",
    "            crs_pdts = np.cross(pts[i], coords) \n",
    "            orient = np.dot(crs_pdts, norms[i]) \n",
    "            area = np.linalg.norm(crs_pdts, axis=1)\n",
    "            sort_indices = np.argsort(orient)\n",
    "            coords_sorted = coords[sort_indices]\n",
    "            mat[clus].append(np.array(coords_sorted, dtype= object))\n",
    "    return mat\n",
    "\n",
    "mat = process_one_pcd(all_pts[0], all_norms[0])"
   ]
  },
  {
   "cell_type": "code",
   "execution_count": 63,
   "metadata": {},
   "outputs": [
    {
     "data": {
      "text/plain": [
       "5"
      ]
     },
     "execution_count": 63,
     "metadata": {},
     "output_type": "execute_result"
    }
   ],
   "source": [
    "len(mat)"
   ]
  },
  {
   "cell_type": "code",
   "execution_count": 57,
   "metadata": {},
   "outputs": [
    {
     "data": {
      "text/plain": [
       "array([[-1.      ,  0.094387, 11.718286],\n",
       "       [-1.      ,  0.090934, 11.721165],\n",
       "       [-1.      ,  0.101446, 11.704637],\n",
       "       [-1.      ,  0.112601, 11.715321],\n",
       "       [-1.      ,  0.079621, 11.730504],\n",
       "       [-1.      ,  0.07598 , 11.72498 ],\n",
       "       [-1.      ,  0.080252, 11.703704],\n",
       "       [-1.      ,  0.114846, 11.709319],\n",
       "       [-1.      ,  0.0993  , 11.695321],\n",
       "       [-1.      ,  0.102208, 11.688072],\n",
       "       [-1.      ,  0.07869 , 11.748093],\n",
       "       [-1.      ,  0.064145, 11.735685],\n",
       "       [-1.      ,  0.087351, 11.752832],\n",
       "       [-1.      ,  0.058686, 11.714723],\n",
       "       [-1.      ,  0.08846 , 11.7559  ],\n",
       "       [-1.      ,  0.068877, 11.747291],\n",
       "       [-1.      ,  0.063158, 11.694398],\n",
       "       [-1.      ,  0.133729, 11.716803],\n",
       "       [-1.      ,  0.066512, 11.748082],\n",
       "       [-1.      ,  0.132877, 11.697006],\n",
       "       [-1.      ,  0.128776, 11.690574],\n",
       "       [-1.      ,  0.048731, 11.720494],\n",
       "       [-1.      ,  0.066735, 11.75645 ],\n",
       "       [-1.      ,  0.068291, 11.762855]])"
      ]
     },
     "execution_count": 57,
     "metadata": {},
     "output_type": "execute_result"
    }
   ],
   "source": [
    "co"
   ]
  },
  {
   "cell_type": "code",
   "execution_count": 49,
   "metadata": {},
   "outputs": [
    {
     "data": {
      "text/plain": [
       "array([ 0.        ,  0.0402975 , -0.08238447, -0.21255644,  0.1723234 ,\n",
       "        0.2148106 ,  0.16494621, -0.23875831, -0.05734563, -0.09128525,\n",
       "        0.18319691,  0.35292886,  0.08212659,  0.4166241 ,  0.06918626,\n",
       "        0.29771291,  0.36442621, -0.45911662,  0.32531254, -0.44918388,\n",
       "       -0.401329  ,  0.53280052,  0.32271438,  0.30455929])"
      ]
     },
     "execution_count": 49,
     "metadata": {},
     "output_type": "execute_result"
    }
   ],
   "source": [
    "o"
   ]
  },
  {
   "cell_type": "code",
   "execution_count": 50,
   "metadata": {},
   "outputs": [
    {
     "data": {
      "text/plain": [
       "array([0.        , 0.04098232, 0.08540148, 0.21451195, 0.17523664,\n",
       "       0.21721518, 0.16551228, 0.24162554, 0.06418988, 0.09952087,\n",
       "       0.18976935, 0.35773213, 0.0926781 , 0.41955512, 0.08233837,\n",
       "       0.30413409, 0.36581471, 0.46283827, 0.33197655, 0.45517517,\n",
       "       0.40799326, 0.53716679, 0.33100849, 0.31427984])"
      ]
     },
     "execution_count": 50,
     "metadata": {},
     "output_type": "execute_result"
    }
   ],
   "source": [
    "a"
   ]
  },
  {
   "cell_type": "code",
   "execution_count": 38,
   "metadata": {},
   "outputs": [
    {
     "data": {
      "text/plain": [
       "-0.4013289978202006"
      ]
     },
     "execution_count": 38,
     "metadata": {},
     "output_type": "execute_result"
    }
   ],
   "source": [
    "np.dot(c[20], all_norms[0][0])"
   ]
  },
  {
   "cell_type": "code",
   "execution_count": 6,
   "metadata": {},
   "outputs": [
    {
     "name": "stdout",
     "output_type": "stream",
     "text": [
      "(2, 5) (2, 5)\n"
     ]
    }
   ],
   "source": [
    "'''checks'''\n",
    "\n",
    "x = np.array([[10,9,8,7,6],[5,4,3,2,1]])\n",
    "y = np.array([[0,0,1,2,0],[2,1,2,1,0]])\n",
    "print(x.shape, y.shape)\n",
    "# np.where(y==0, axis=1)"
   ]
  },
  {
   "cell_type": "code",
   "execution_count": 25,
   "metadata": {},
   "outputs": [
    {
     "name": "stdout",
     "output_type": "stream",
     "text": [
      "[[0]\n",
      " [1]\n",
      " [2]\n",
      " [3]\n",
      " [4]]\n",
      "[[False False  True False False]\n",
      " [False  True False  True False]]\n"
     ]
    },
    {
     "ename": "IndexError",
     "evalue": "boolean index did not match indexed array along dimension 0; dimension is 2 but corresponding boolean dimension is 5",
     "output_type": "error",
     "traceback": [
      "\u001b[0;31m---------------------------------------------------------------------------\u001b[0m",
      "\u001b[0;31mIndexError\u001b[0m                                Traceback (most recent call last)",
      "Cell \u001b[0;32mIn[25], line 8\u001b[0m\n\u001b[1;32m      6\u001b[0m \u001b[38;5;66;03m#get the x points for each label while maintaining the dimensionality\u001b[39;00m\n\u001b[1;32m      7\u001b[0m x0 \u001b[38;5;241m=\u001b[39m np\u001b[38;5;241m.\u001b[39mwhere(masks, x, np\u001b[38;5;241m.\u001b[39mnan)\u001b[38;5;241m.\u001b[39mreshape(x\u001b[38;5;241m.\u001b[39mshape)  \n\u001b[0;32m----> 8\u001b[0m x0 \u001b[38;5;241m=\u001b[39m \u001b[43mx0\u001b[49m\u001b[43m[\u001b[49m\u001b[38;5;241;43m~\u001b[39;49m\u001b[43mnp\u001b[49m\u001b[38;5;241;43m.\u001b[39;49m\u001b[43mall\u001b[49m\u001b[43m(\u001b[49m\u001b[43mnp\u001b[49m\u001b[38;5;241;43m.\u001b[39;49m\u001b[43misnan\u001b[49m\u001b[43m(\u001b[49m\u001b[43mx0\u001b[49m\u001b[43m)\u001b[49m\u001b[43m,\u001b[49m\u001b[43m \u001b[49m\u001b[43maxis\u001b[49m\u001b[38;5;241;43m=\u001b[39;49m\u001b[38;5;241;43m0\u001b[39;49m\u001b[43m)\u001b[49m\u001b[43m]\u001b[49m\u001b[38;5;241m.\u001b[39mastype(\u001b[38;5;28mobject\u001b[39m)\n\u001b[1;32m     10\u001b[0m \u001b[38;5;28mprint\u001b[39m(x0)\n",
      "\u001b[0;31mIndexError\u001b[0m: boolean index did not match indexed array along dimension 0; dimension is 2 but corresponding boolean dimension is 5"
     ]
    }
   ],
   "source": [
    "unique_labels = np.unique(y)\n",
    "label_indices = np.arange(len(y[0]))[:, None]\n",
    "print(label_indices)\n",
    "masks = y == 1\n",
    "print(masks)\n",
    "#get the x points for each label while maintaining the dimensionality\n",
    "x0 = np.where(masks, x, np.nan).reshape(x.shape)  \n",
    "x0 = x0[~np.all(np.isnan(x0), axis=1)].astype(object)\n",
    "\n",
    "print(x0)\n",
    "#drop nan from x0\n",
    "# x0 = x0[~np.isnan(x0)]\n",
    "# x0"
   ]
  },
  {
   "cell_type": "code",
   "execution_count": null,
   "metadata": {},
   "outputs": [],
   "source": []
  },
  {
   "cell_type": "code",
   "execution_count": null,
   "metadata": {},
   "outputs": [],
   "source": []
  }
 ],
 "metadata": {
  "kernelspec": {
   "display_name": "pytorch3d",
   "language": "python",
   "name": "python3"
  },
  "language_info": {
   "codemirror_mode": {
    "name": "ipython",
    "version": 3
   },
   "file_extension": ".py",
   "mimetype": "text/x-python",
   "name": "python",
   "nbconvert_exporter": "python",
   "pygments_lexer": "ipython3",
   "version": "3.9.18"
  }
 },
 "nbformat": 4,
 "nbformat_minor": 2
}
