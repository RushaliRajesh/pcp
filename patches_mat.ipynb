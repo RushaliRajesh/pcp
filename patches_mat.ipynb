{
 "cells": [
  {
   "cell_type": "code",
   "execution_count": 1,
   "metadata": {},
   "outputs": [
    {
     "name": "stdout",
     "output_type": "stream",
     "text": [
      "Jupyter environment detected. Enabling Open3D WebVisualizer.\n",
      "[Open3D INFO] WebRTC GUI backend enabled.\n",
      "[Open3D INFO] WebRTCWindowSystem: HTTP handshake server disabled.\n"
     ]
    }
   ],
   "source": [
    "import numpy as np\n",
    "import ckwrap\n",
    "from normals_init import find_neighs"
   ]
  },
  {
   "cell_type": "code",
   "execution_count": 28,
   "metadata": {},
   "outputs": [],
   "source": [
    "all_pts = np.load(\"xyz_points.npy\")\n",
    "all_norms = np.load(\"init_normals.npy\")"
   ]
  },
  {
   "cell_type": "code",
   "execution_count": 31,
   "metadata": {},
   "outputs": [
    {
     "name": "stdout",
     "output_type": "stream",
     "text": [
      "neighs shape:  (100000, 250, 3)\n",
      "labels shape:  (100000, 250)\n",
      "ind_clus shape:  (24,)\n",
      "crs_pdts shape:  (24, 3)\n",
      "orient shape:  (24,)\n"
     ]
    }
   ],
   "source": [
    "'''creating patches via clustering'''\n",
    "\n",
    "def process_one_pcd(pts, norms):\n",
    "    dists_ori, indices_ori = find_neighs(pts)\n",
    "    neighs = pts[indices_ori]\n",
    "    print(\"neighs shape: \", neighs.shape)\n",
    "    labels_per_row = np.apply_along_axis(lambda row: ckwrap.ckmeans(row, 5).labels, 1, dists_ori)\n",
    "    print(\"labels shape: \",labels_per_row.shape)\n",
    "    for i,( ind, labels) in enumerate(zip(indices_ori, labels_per_row)):\n",
    "        for clus in np.unique(labels_per_row[0]):\n",
    "            ind_clus = ind[np.where(labels == clus)]\n",
    "            print(\"ind_clus shape: \",ind_clus.shape)\n",
    "            coords = pts[ind_clus]\n",
    "            crs_pdts = np.cross(pts[i], coords)\n",
    "            print(\"crs_pdts shape: \",crs_pdts.shape)\n",
    "            orient = np.dot(crs_pdts, norms[i]) #check done, works as intented\n",
    "            print(\"orient shape: \",orient.shape)\n",
    "            \n",
    "            # return orient, crs_pdts\n",
    "            break\n",
    "        break\n",
    "\n",
    "\n",
    "l,c = process_one_pcd(all_pts[0], all_norms[0])"
   ]
  },
  {
   "cell_type": "code",
   "execution_count": 32,
   "metadata": {},
   "outputs": [
    {
     "data": {
      "text/plain": [
       "array([ 0.        ,  0.0402975 , -0.08238447, -0.21255644,  0.1723234 ,\n",
       "        0.2148106 ,  0.16494621, -0.23875831, -0.05734563, -0.09128525,\n",
       "        0.18319691,  0.35292886,  0.08212659,  0.4166241 ,  0.06918626,\n",
       "        0.29771291,  0.36442621, -0.45911662,  0.32531254, -0.44918388,\n",
       "       -0.401329  ,  0.53280052,  0.32271438,  0.30455929])"
      ]
     },
     "execution_count": 32,
     "metadata": {},
     "output_type": "execute_result"
    }
   ],
   "source": [
    "l"
   ]
  },
  {
   "cell_type": "code",
   "execution_count": 38,
   "metadata": {},
   "outputs": [
    {
     "data": {
      "text/plain": [
       "-0.4013289978202006"
      ]
     },
     "execution_count": 38,
     "metadata": {},
     "output_type": "execute_result"
    }
   ],
   "source": [
    "np.dot(c[20], all_norms[0][0])"
   ]
  },
  {
   "cell_type": "code",
   "execution_count": 6,
   "metadata": {},
   "outputs": [
    {
     "name": "stdout",
     "output_type": "stream",
     "text": [
      "(2, 5) (2, 5)\n"
     ]
    }
   ],
   "source": [
    "'''sanity checks'''\n",
    "\n",
    "x = np.array([[10,9,8,7,6],[5,4,3,2,1]])\n",
    "y = np.array([[0,0,1,2,0],[2,1,2,1,0]])\n",
    "print(x.shape, y.shape)\n",
    "# np.where(y==0, axis=1)"
   ]
  },
  {
   "cell_type": "code",
   "execution_count": 25,
   "metadata": {},
   "outputs": [
    {
     "name": "stdout",
     "output_type": "stream",
     "text": [
      "[[0]\n",
      " [1]\n",
      " [2]\n",
      " [3]\n",
      " [4]]\n",
      "[[False False  True False False]\n",
      " [False  True False  True False]]\n"
     ]
    },
    {
     "ename": "IndexError",
     "evalue": "boolean index did not match indexed array along dimension 0; dimension is 2 but corresponding boolean dimension is 5",
     "output_type": "error",
     "traceback": [
      "\u001b[0;31m---------------------------------------------------------------------------\u001b[0m",
      "\u001b[0;31mIndexError\u001b[0m                                Traceback (most recent call last)",
      "Cell \u001b[0;32mIn[25], line 8\u001b[0m\n\u001b[1;32m      6\u001b[0m \u001b[38;5;66;03m#get the x points for each label while maintaining the dimensionality\u001b[39;00m\n\u001b[1;32m      7\u001b[0m x0 \u001b[38;5;241m=\u001b[39m np\u001b[38;5;241m.\u001b[39mwhere(masks, x, np\u001b[38;5;241m.\u001b[39mnan)\u001b[38;5;241m.\u001b[39mreshape(x\u001b[38;5;241m.\u001b[39mshape)  \n\u001b[0;32m----> 8\u001b[0m x0 \u001b[38;5;241m=\u001b[39m \u001b[43mx0\u001b[49m\u001b[43m[\u001b[49m\u001b[38;5;241;43m~\u001b[39;49m\u001b[43mnp\u001b[49m\u001b[38;5;241;43m.\u001b[39;49m\u001b[43mall\u001b[49m\u001b[43m(\u001b[49m\u001b[43mnp\u001b[49m\u001b[38;5;241;43m.\u001b[39;49m\u001b[43misnan\u001b[49m\u001b[43m(\u001b[49m\u001b[43mx0\u001b[49m\u001b[43m)\u001b[49m\u001b[43m,\u001b[49m\u001b[43m \u001b[49m\u001b[43maxis\u001b[49m\u001b[38;5;241;43m=\u001b[39;49m\u001b[38;5;241;43m0\u001b[39;49m\u001b[43m)\u001b[49m\u001b[43m]\u001b[49m\u001b[38;5;241m.\u001b[39mastype(\u001b[38;5;28mobject\u001b[39m)\n\u001b[1;32m     10\u001b[0m \u001b[38;5;28mprint\u001b[39m(x0)\n",
      "\u001b[0;31mIndexError\u001b[0m: boolean index did not match indexed array along dimension 0; dimension is 2 but corresponding boolean dimension is 5"
     ]
    }
   ],
   "source": [
    "unique_labels = np.unique(y)\n",
    "label_indices = np.arange(len(y[0]))[:, None]\n",
    "print(label_indices)\n",
    "masks = y == 1\n",
    "print(masks)\n",
    "#get the x points for each label while maintaining the dimensionality\n",
    "x0 = np.where(masks, x, np.nan).reshape(x.shape)  \n",
    "x0 = x0[~np.all(np.isnan(x0), axis=1)].astype(object)\n",
    "\n",
    "print(x0)\n",
    "#drop nan from x0\n",
    "# x0 = x0[~np.isnan(x0)]\n",
    "# x0"
   ]
  },
  {
   "cell_type": "code",
   "execution_count": null,
   "metadata": {},
   "outputs": [],
   "source": []
  },
  {
   "cell_type": "code",
   "execution_count": null,
   "metadata": {},
   "outputs": [],
   "source": []
  }
 ],
 "metadata": {
  "kernelspec": {
   "display_name": "pytorch3d",
   "language": "python",
   "name": "python3"
  },
  "language_info": {
   "codemirror_mode": {
    "name": "ipython",
    "version": 3
   },
   "file_extension": ".py",
   "mimetype": "text/x-python",
   "name": "python",
   "nbconvert_exporter": "python",
   "pygments_lexer": "ipython3",
   "version": "3.9.18"
  }
 },
 "nbformat": 4,
 "nbformat_minor": 2
}
