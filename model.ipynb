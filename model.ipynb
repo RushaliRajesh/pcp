{
 "cells": [
  {
   "cell_type": "code",
   "execution_count": 1,
   "metadata": {},
   "outputs": [
    {
     "name": "stdout",
     "output_type": "stream",
     "text": [
      "Jupyter environment detected. Enabling Open3D WebVisualizer.\n",
      "[Open3D INFO] WebRTC GUI backend enabled.\n",
      "[Open3D INFO] WebRTCWindowSystem: HTTP handshake server disabled.\n"
     ]
    }
   ],
   "source": [
    "from data_patches import process_one_pcd\n",
    "import torch\n",
    "import numpy as np\n",
    "from torch.utils.data import DataLoader\n",
    "from data_patches import Patches_dataset\n",
    "import torch.nn as nn\n",
    "import torch.nn.functional as F"
   ]
  },
  {
   "cell_type": "code",
   "execution_count": 2,
   "metadata": {},
   "outputs": [
    {
     "name": "stdout",
     "output_type": "stream",
     "text": [
      "in process_pcd: (100000, 3) (100000, 3) 0 44583\n",
      "Full batch converged at iteration 23/100 with center shifts = tensor([1.1580e-05], dtype=torch.float64).\n"
     ]
    },
    {
     "name": "stderr",
     "output_type": "stream",
     "text": [
      "/home/cvig_5/Scripts/pcp/data_patches.py:79: UserWarning: The use of `x.T` on tensors of dimension other than 2 to reverse their shape is deprecated and it will throw an error in a future release. Consider `x.mT` to transpose batches of matrices or `x.permute(*torch.arange(x.ndim - 1, -1, -1))` to reverse the dimensions of a tensor. (Triggered internally at /opt/conda/conda-bld/pytorch_1666642975993/work/aten/src/ATen/native/TensorShape.cpp:3277.)\n",
      "  dot_pdts = torch.tensordot(crs_pdts, norms[i].T, dims=1)\n"
     ]
    },
    {
     "name": "stdout",
     "output_type": "stream",
     "text": [
      "in process_pcd: (100000, 3) (100000, 3) 0 63921\n",
      "Full batch converged at iteration 18/100 with center shifts = tensor([1.9981e-05], dtype=torch.float64).\n",
      "in process_pcd: (100000, 3) (100000, 3) 0 3463\n",
      "Full batch converged at iteration 19/100 with center shifts = tensor([1.0341e-05], dtype=torch.float64).\n",
      "in process_pcd: (100000, 3) (100000, 3) 0 78933\n",
      "Full batch converged at iteration 23/100 with center shifts = tensor([1.1012e-05], dtype=torch.float64).\n",
      "in process_pcd: (100000, 3) (100000, 3) 0 87155\n",
      "Full batch converged at iteration 25/100 with center shifts = tensor([7.0084e-06], dtype=torch.float64).\n",
      "in process_pcd: (100000, 3) (100000, 3) 0 6881\n",
      "Full batch converged at iteration 33/100 with center shifts = tensor([1.1037e-05], dtype=torch.float64).\n",
      "in process_pcd: (100000, 3) (100000, 3) 0 29215\n",
      "Full batch converged at iteration 24/100 with center shifts = tensor([5.3322e-06], dtype=torch.float64).\n",
      "in process_pcd: (100000, 3) (100000, 3) 0 97912\n",
      "Full batch converged at iteration 24/100 with center shifts = tensor([6.1286e-06], dtype=torch.float64).\n",
      "in process_pcd: (100000, 3) (100000, 3) 0 3500\n",
      "Full batch converged at iteration 19/100 with center shifts = tensor([1.0382e-05], dtype=torch.float64).\n",
      "in process_pcd: (100000, 3) (100000, 3) 0 13716\n",
      "Full batch converged at iteration 20/100 with center shifts = tensor([1.0718e-05], dtype=torch.float64).\n"
     ]
    }
   ],
   "source": [
    "num_patches = 381\n",
    "train_data = Patches_dataset(1,10)\n",
    "# val_data = Patches_dataset(num_patches,1000)\n",
    "# test_data = Patches_dataset(num_patches,1000)\n",
    "\n",
    "train_loader = DataLoader(train_data, batch_size=2, shuffle=True) # shape: 2, 10, 24,3\n",
    "# val_loader = DataLoader(val_data, batch_size=16, shuffle=True)\n",
    "# test_loader = DataLoader(test_data, batch_size=16, shuffle=True)\n",
    "\n"
   ]
  },
  {
   "cell_type": "code",
   "execution_count": 3,
   "metadata": {},
   "outputs": [],
   "source": [
    "class CNN(nn.Module):\n",
    "    def __init__(self):\n",
    "        super(CNN, self).__init__()\n",
    "        self.conv1 = nn.Conv2d(in_channels=3, out_channels=128, kernel_size=3, stride=1)\n",
    "        self.conv2 = nn.Conv2d(128, 64, 3, 1)\n",
    "        self.conv3 = nn.Conv2d(64, 64, 3, 1)\n",
    "        self.conv4 = nn.Conv2d(64, 32, (2,3), 1)\n",
    "        self.conv5 = nn.Conv2d(32, 16, (1,3), 1)\n",
    "        self.flat = nn.Flatten()\n",
    "        self.fc1 = nn.Linear(16*3*14, 96)\n",
    "        self.fc2 = nn.Linear(96, 48)\n",
    "        self.fc3 = nn.Linear(48, 24)\n",
    "        self.fc4 = nn.Linear(24, 12)\n",
    "        self.fc5 = nn.Linear(12, 3)\n",
    "\n",
    "    def forward(self, x):\n",
    "        x = F.relu(self.conv1(x))\n",
    "        x = F.relu(self.conv2(x))\n",
    "        x = F.relu(self.conv3(x))\n",
    "        x = F.relu(self.conv4(x))\n",
    "        x = F.relu(self.conv5(x))\n",
    "        x = self.flat(x)\n",
    "        x = F.relu(self.fc1(x))\n",
    "        x = F.relu(self.fc2(x))\n",
    "        x = F.relu(self.fc3(x))\n",
    "        x = F.relu(self.fc4(x))\n",
    "        x = self.fc5(x)\n",
    "\n",
    "        return x"
   ]
  },
  {
   "cell_type": "code",
   "execution_count": 4,
   "metadata": {},
   "outputs": [
    {
     "name": "stdout",
     "output_type": "stream",
     "text": [
      "torch.Size([2, 10, 24, 3])\n",
      "torch.Size([2, 3])\n",
      "torch.Size([2, 10, 24, 3])\n",
      "torch.Size([2, 3])\n",
      "torch.Size([2, 10, 24, 3])\n",
      "torch.Size([2, 3])\n",
      "torch.Size([2, 10, 24, 3])\n",
      "torch.Size([2, 3])\n",
      "torch.Size([2, 10, 24, 3])\n",
      "torch.Size([2, 3])\n"
     ]
    }
   ],
   "source": [
    "for i, j in train_loader:\n",
    "    print(i.shape)\n",
    "    print(j.shape)\n",
    "    "
   ]
  },
  {
   "cell_type": "code",
   "execution_count": 10,
   "metadata": {},
   "outputs": [
    {
     "name": "stdout",
     "output_type": "stream",
     "text": [
      "torch.Size([2, 3, 10, 24])\n"
     ]
    }
   ],
   "source": [
    "model = CNN()\n",
    "\n",
    "inp = next(iter(train_loader))[0].float()\n",
    "inp = inp.permute(0,3,1,2)\n",
    "print(inp.shape)\n",
    "out = model(inp)"
   ]
  },
  {
   "cell_type": "code",
   "execution_count": 11,
   "metadata": {},
   "outputs": [
    {
     "data": {
      "text/plain": [
       "torch.Size([2, 3])"
      ]
     },
     "execution_count": 11,
     "metadata": {},
     "output_type": "execute_result"
    }
   ],
   "source": [
    "out.shape"
   ]
  },
  {
   "cell_type": "code",
   "execution_count": 12,
   "metadata": {},
   "outputs": [
    {
     "data": {
      "text/plain": [
       "tensor([[-0.1470, -0.0322, -0.0397],\n",
       "        [-0.1465, -0.0320, -0.0389]], grad_fn=<AddmmBackward0>)"
      ]
     },
     "execution_count": 12,
     "metadata": {},
     "output_type": "execute_result"
    }
   ],
   "source": [
    "out"
   ]
  },
  {
   "cell_type": "code",
   "execution_count": 17,
   "metadata": {},
   "outputs": [],
   "source": [
    "# loss func\n",
    "def loss_func(pred, target):\n",
    "    pred = nn.functional.normalize(pred, dim=1)\n",
    "    target = nn.functional.normalize(target, dim=1)\n",
    "    # dot = torch.abs(torch.diag(torch.dot(pred, target)))\n",
    "    dot = torch.abs(torch.sum(pred * target, dim=1))\n",
    "    # loss = torch.mean(torch.acos(dot))   OR\n",
    "    loss = 1 - torch.mean(dot)\n",
    "    return loss"
   ]
  },
  {
   "cell_type": "code",
   "execution_count": null,
   "metadata": {},
   "outputs": [],
   "source": []
  },
  {
   "cell_type": "code",
   "execution_count": 66,
   "metadata": {},
   "outputs": [
    {
     "data": {
      "text/plain": [
       "tensor(1.2661)"
      ]
     },
     "execution_count": 66,
     "metadata": {},
     "output_type": "execute_result"
    }
   ],
   "source": [
    "torch.acos(torch.tensor(0.3))"
   ]
  },
  {
   "cell_type": "code",
   "execution_count": 26,
   "metadata": {},
   "outputs": [
    {
     "name": "stdout",
     "output_type": "stream",
     "text": [
      "in process_pcd: (100000, 3) (100000, 3) 0 14654\n",
      "Full batch converged at iteration 21/100 with center shifts = tensor([0.], dtype=torch.float64).\n",
      "in process_pcd: (100000, 3) (100000, 3) 0 30485\n",
      "Full batch converged at iteration 19/100 with center shifts = tensor([1.0087e-05], dtype=torch.float64).\n",
      "in process_pcd: (100000, 3) (100000, 3) 0 35959\n",
      "Full batch converged at iteration 20/100 with center shifts = tensor([1.0773e-05], dtype=torch.float64).\n",
      "in process_pcd: (100000, 3) (100000, 3) 0 55304\n",
      "Full batch converged at iteration 18/100 with center shifts = tensor([1.3201e-05], dtype=torch.float64).\n",
      "in process_pcd: (100000, 3) (100000, 3) 0 12837\n",
      "Full batch converged at iteration 17/100 with center shifts = tensor([1.6275e-05], dtype=torch.float64).\n",
      "in process_pcd: (100000, 3) (100000, 3) 0 30059\n",
      "Full batch converged at iteration 17/100 with center shifts = tensor([1.1158e-05], dtype=torch.float64).\n",
      "in process_pcd: (100000, 3) (100000, 3) 0 7933\n",
      "Full batch converged at iteration 18/100 with center shifts = tensor([6.2670e-06], dtype=torch.float64).\n",
      "in process_pcd: (100000, 3) (100000, 3) 0 52973\n",
      "Full batch converged at iteration 30/100 with center shifts = tensor([0.], dtype=torch.float64).\n",
      "in process_pcd: (100000, 3) (100000, 3) 0 37445\n",
      "Full batch converged at iteration 27/100 with center shifts = tensor([9.2336e-06], dtype=torch.float64).\n",
      "in process_pcd: (100000, 3) (100000, 3) 0 24817\n",
      "Full batch converged at iteration 27/100 with center shifts = tensor([8.8191e-06], dtype=torch.float64).\n",
      "in process_pcd: (100000, 3) (100000, 3) 0 37259\n",
      "Full batch converged at iteration 20/100 with center shifts = tensor([1.2302e-05], dtype=torch.float64).\n",
      "in process_pcd: (100000, 3) (100000, 3) 0 93623\n",
      "Full batch converged at iteration 27/100 with center shifts = tensor([0.], dtype=torch.float64).\n",
      "in process_pcd: (100000, 3) (100000, 3) 0 70530\n",
      "Full batch converged at iteration 19/100 with center shifts = tensor([0.], dtype=torch.float64).\n",
      "in process_pcd: (100000, 3) (100000, 3) 0 96551\n",
      "Full batch converged at iteration 24/100 with center shifts = tensor([1.0885e-05], dtype=torch.float64).\n",
      "in process_pcd: (100000, 3) (100000, 3) 0 91266\n",
      "Full batch converged at iteration 32/100 with center shifts = tensor([1.0750e-05], dtype=torch.float64).\n",
      "in process_pcd: (100000, 3) (100000, 3) 0 96153\n",
      "Full batch converged at iteration 22/100 with center shifts = tensor([0.], dtype=torch.float64).\n",
      "in process_pcd: (100000, 3) (100000, 3) 0 60078\n",
      "Full batch converged at iteration 13/100 with center shifts = tensor([1.2995e-05], dtype=torch.float64).\n",
      "in process_pcd: (100000, 3) (100000, 3) 0 31983\n",
      "Full batch converged at iteration 20/100 with center shifts = tensor([1.7591e-05], dtype=torch.float64).\n",
      "in process_pcd: (100000, 3) (100000, 3) 0 33157\n"
     ]
    }
   ],
   "source": [
    "#traning\n",
    "epochs = 30\n",
    "device = torch.device(\"cuda:0\" if torch.cuda.is_available() else \"cpu\")\n",
    "model = model.to(device)\n",
    "optimizer = torch.optim.Adam(model.parameters(), lr=0.001)\n",
    "\n",
    "tr_loss_per_epoch = []\n",
    "val_loss_per_epoch = []\n",
    "\n",
    "for epoch in range(epochs):\n",
    "    num_patches = 381\n",
    "    train_data = Patches_dataset(1,16)\n",
    "    val_data = Patches_dataset(1,8)\n",
    "    # # test_data = Patches_dataset(num_patches,1000)\n",
    "\n",
    "    train_loader = DataLoader(train_data, batch_size=8, shuffle=True) # shape: 2, 10, 24,3\n",
    "    val_loader = DataLoader(val_data, batch_size=8, shuffle=True)\n",
    "    # test_loader = DataLoader(test_data, batch_size=16, shuffle=True)\n",
    "\n",
    "    train_loss = []\n",
    "    val_loss = []\n",
    "    model.train()\n",
    "    for i, (data, norms) in enumerate(train_loader, 0):\n",
    "        inputs = data.float()\n",
    "        inputs = inputs.permute(0,3,1,2)\n",
    "        norms = norms.float()\n",
    "        inputs, norms = inputs.to(device), norms.to(device)\n",
    "        \n",
    "        out = model(inputs)\n",
    "        loss = loss_func(out, norms)\n",
    "\n",
    "        optimizer.zero_grad()\n",
    "        loss.backward()\n",
    "        optimizer.step()\n",
    "\n",
    "        train_loss.append(loss.item())\n",
    "\n",
    "    tot_train_loss = np.mean(train_loss)  \n",
    "    tr_loss_per_epoch.append(tot_train_loss)  \n",
    "    # print(f'epoch: {epoch}, training loss: {tot_train_loss}')\n",
    "    \n",
    "    with torch.no_grad():\n",
    "        model.eval()\n",
    "        for i, (data, norms) in enumerate(val_loader, 0):\n",
    "            inputs = data.float()\n",
    "            inputs = inputs.permute(0,3,1,2)\n",
    "            norms = norms.float()\n",
    "            inputs, norms = inputs.to(device), norms.to(device)\n",
    "            \n",
    "            out = model(inputs)\n",
    "            loss = loss_func(out, norms)\n",
    "\n",
    "            val_loss.append(loss.item())\n",
    "\n",
    "    tot_val_loss = np.mean(val_loss)\n",
    "    val_loss_per_epoch.append(tot_val_loss)\n",
    "    print(f'epoch: {epoch}, training loss: {tot_train_loss}, validation loss: {tot_val_loss}')\n",
    "        \n"
   ]
  },
  {
   "cell_type": "code",
   "execution_count": null,
   "metadata": {},
   "outputs": [
    {
     "data": {
      "image/png": "[encoded data removed]",
      "text/plain": [
       "<Figure size 640x480 with 1 Axes>"
      ]
     },
     "metadata": {},
     "output_type": "display_data"
    }
   ],
   "source": [
    "import matplotlib.pyplot as plt\n",
    "#plot train and val loss\n",
    "plt.plot(tr_loss_per_epoch, label='train loss')\n",
    "plt.plot(val_loss_per_epoch, label='val loss')\n",
    "plt.legend()\n",
    "plt.show()\n"
   ]
  },
  {
   "cell_type": "code",
   "execution_count": 68,
   "metadata": {},
   "outputs": [],
   "source": [
    "# normals extraction\n",
    "\n",
    "norm_files = np.load('normals_files.npy')\n",
    "normals = []\n",
    "for file in norm_files:\n",
    "    normals.append(np.loadtxt(file))"
   ]
  },
  {
   "cell_type": "code",
   "execution_count": 69,
   "metadata": {},
   "outputs": [
    {
     "data": {
      "text/plain": [
       "(381, 100000, 3)"
      ]
     },
     "execution_count": 69,
     "metadata": {},
     "output_type": "execute_result"
    }
   ],
   "source": [
    "normals = np.array(normals)\n",
    "normals.shape"
   ]
  },
  {
   "cell_type": "code",
   "execution_count": 71,
   "metadata": {},
   "outputs": [],
   "source": [
    "x = np.load('origianl_normals.npy')"
   ]
  },
  {
   "cell_type": "code",
   "execution_count": 72,
   "metadata": {},
   "outputs": [
    {
     "data": {
      "text/plain": [
       "(381, 100000, 3)"
      ]
     },
     "execution_count": 72,
     "metadata": {},
     "output_type": "execute_result"
    }
   ],
   "source": [
    "x.shape"
   ]
  },
  {
   "cell_type": "code",
   "execution_count": null,
   "metadata": {},
   "outputs": [],
   "source": []
  }
 ],
 "metadata": {
  "kernelspec": {
   "display_name": "pytorch3d",
   "language": "python",
   "name": "python3"
  },
  "language_info": {
   "codemirror_mode": {
    "name": "ipython",
    "version": 3
   },
   "file_extension": ".py",
   "mimetype": "text/x-python",
   "name": "python",
   "nbconvert_exporter": "python",
   "pygments_lexer": "ipython3",
   "version": "3.9.18"
  }
 },
 "nbformat": 4,
 "nbformat_minor": 2
}
