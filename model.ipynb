{
 "cells": [
  {
   "cell_type": "code",
   "execution_count": 38,
   "metadata": {},
   "outputs": [],
   "source": [
    "from data_patches import process_one_pcd\n",
    "import torch\n",
    "import numpy as np\n",
    "from torch.utils.data import DataLoader\n",
    "from data_patches import Patches_dataset\n",
    "import torch.nn as nn\n",
    "import torch.nn.functional as F"
   ]
  },
  {
   "cell_type": "code",
   "execution_count": 12,
   "metadata": {},
   "outputs": [
    {
     "name": "stdout",
     "output_type": "stream",
     "text": [
      "in process_pcd: (100000, 3) (100000, 3) 0 29471\n",
      "Full batch converged at iteration 31/100 with center shifts = tensor([5.4145e-06], dtype=torch.float64).\n",
      "in process_pcd: (100000, 3) (100000, 3) 0 81933\n",
      "Full batch converged at iteration 26/100 with center shifts = tensor([6.4353e-06], dtype=torch.float64).\n",
      "in process_pcd: (100000, 3) (100000, 3) 0 13644\n",
      "Full batch converged at iteration 17/100 with center shifts = tensor([8.7857e-06], dtype=torch.float64).\n",
      "in process_pcd: (100000, 3) (100000, 3) 0 6929\n",
      "Full batch converged at iteration 20/100 with center shifts = tensor([5.7544e-06], dtype=torch.float64).\n",
      "in process_pcd: (100000, 3) (100000, 3) 0 34899\n",
      "Full batch converged at iteration 27/100 with center shifts = tensor([9.0582e-06], dtype=torch.float64).\n",
      "in process_pcd: (100000, 3) (100000, 3) 0 6740\n",
      "Full batch converged at iteration 19/100 with center shifts = tensor([0.], dtype=torch.float64).\n",
      "in process_pcd: (100000, 3) (100000, 3) 0 49494\n",
      "Full batch converged at iteration 17/100 with center shifts = tensor([1.2096e-05], dtype=torch.float64).\n",
      "in process_pcd: (100000, 3) (100000, 3) 0 56563\n",
      "Full batch converged at iteration 17/100 with center shifts = tensor([2.1951e-05], dtype=torch.float64).\n",
      "in process_pcd: (100000, 3) (100000, 3) 0 8461\n",
      "Full batch converged at iteration 26/100 with center shifts = tensor([6.6547e-06], dtype=torch.float64).\n",
      "in process_pcd: (100000, 3) (100000, 3) 0 85430\n",
      "Full batch converged at iteration 31/100 with center shifts = tensor([8.1513e-06], dtype=torch.float64).\n"
     ]
    }
   ],
   "source": [
    "num_patches = 381\n",
    "train_data = Patches_dataset(1,10)\n",
    "# val_data = Patches_dataset(num_patches,1000)\n",
    "# test_data = Patches_dataset(num_patches,1000)\n",
    "\n",
    "train_loader = DataLoader(train_data, batch_size=2, shuffle=True) # shape: 2, 10, 24,3\n",
    "# val_loader = DataLoader(val_data, batch_size=16, shuffle=True)\n",
    "# test_loader = DataLoader(test_data, batch_size=16, shuffle=True)\n",
    "\n"
   ]
  },
  {
   "cell_type": "code",
   "execution_count": 56,
   "metadata": {},
   "outputs": [],
   "source": [
    "class CNN(nn.Module):\n",
    "    def __init__(self):\n",
    "        super(CNN, self).__init__()\n",
    "        self.conv1 = nn.Conv2d(in_channels=3, out_channels=128, kernel_size=3, stride=1)\n",
    "        self.conv2 = nn.Conv2d(128, 64, 3, 1)\n",
    "        self.conv3 = nn.Conv2d(64, 64, 3, 1)\n",
    "        self.conv4 = nn.Conv2d(64, 32, (2,3), 1)\n",
    "        self.conv5 = nn.Conv2d(32, 16, (1,3), 1)\n",
    "        self.flat = nn.Flatten()\n",
    "        self.fc1 = nn.Linear(16*3*14, 96)\n",
    "        self.fc2 = nn.Linear(96, 48)\n",
    "        self.fc3 = nn.Linear(48, 24)\n",
    "        self.fc4 = nn.Linear(24, 12)\n",
    "        self.fc5 = nn.Linear(12, 3)\n",
    "\n",
    "    def forward(self, x):\n",
    "        x = F.relu(self.conv1(x))\n",
    "        x = F.relu(self.conv2(x))\n",
    "        x = F.relu(self.conv3(x))\n",
    "        x = F.relu(self.conv4(x))\n",
    "        x = F.relu(self.conv5(x))\n",
    "        x = self.flat(x)\n",
    "        x = F.relu(self.fc1(x))\n",
    "        x = F.relu(self.fc2(x))\n",
    "        x = F.relu(self.fc3(x))\n",
    "        x = F.relu(self.fc4(x))\n",
    "        x = self.fc5(x)\n",
    "\n",
    "        return x"
   ]
  },
  {
   "cell_type": "code",
   "execution_count": 57,
   "metadata": {},
   "outputs": [
    {
     "name": "stdout",
     "output_type": "stream",
     "text": [
      "torch.Size([2, 3, 8, 24])\n"
     ]
    }
   ],
   "source": [
    "model = CNN()\n",
    "inp = next(iter(train_loader)).float()\n",
    "inp = inp.permute(0,3,1,2)\n",
    "print(inp[:,:,:8,:].shape)\n",
    "out = model(inp)"
   ]
  },
  {
   "cell_type": "code",
   "execution_count": 58,
   "metadata": {},
   "outputs": [
    {
     "data": {
      "text/plain": [
       "torch.Size([2, 3])"
      ]
     },
     "execution_count": 58,
     "metadata": {},
     "output_type": "execute_result"
    }
   ],
   "source": [
    "out.shape"
   ]
  },
  {
   "cell_type": "code",
   "execution_count": 59,
   "metadata": {},
   "outputs": [
    {
     "data": {
      "text/plain": [
       "tensor([[ 0.1171,  0.3016, -0.0604],\n",
       "        [ 0.1170,  0.3013, -0.0607]], grad_fn=<AddmmBackward0>)"
      ]
     },
     "execution_count": 59,
     "metadata": {},
     "output_type": "execute_result"
    }
   ],
   "source": [
    "out"
   ]
  },
  {
   "cell_type": "code",
   "execution_count": 67,
   "metadata": {},
   "outputs": [],
   "source": [
    "# loss func\n",
    "def loss_func(pred, target):\n",
    "    pred = torch.divide(pred, torch.linalg.norm(pred))\n",
    "    target = torch.divide(target, torch.linalg.norm(target))\n",
    "    dot = torch.abs(torch.diag(torch.dot(pred, target)))\n",
    "    # loss = torch.mean(torch.acos(dot))   OR\n",
    "    loss = 1 - torch.mean(dot)"
   ]
  },
  {
   "cell_type": "code",
   "execution_count": 66,
   "metadata": {},
   "outputs": [
    {
     "data": {
      "text/plain": [
       "tensor(1.2661)"
      ]
     },
     "execution_count": 66,
     "metadata": {},
     "output_type": "execute_result"
    }
   ],
   "source": [
    "torch.acos(torch.tensor(0.3))"
   ]
  },
  {
   "cell_type": "code",
   "execution_count": 44,
   "metadata": {},
   "outputs": [
    {
     "data": {
      "text/plain": [
       "1792"
      ]
     },
     "execution_count": 44,
     "metadata": {},
     "output_type": "execute_result"
    }
   ],
   "source": [
    "#traning\n",
    "epochs = 100\n",
    "optimizer = torch.optim.Adam(model.parameters(), lr=0.001)\n",
    "for epoch in epochs:\n",
    "    num_patches = 381\n",
    "    train_data = Patches_dataset(1,10)\n",
    "    # val_data = Patches_dataset(num_patches,1000)\n",
    "    # test_data = Patches_dataset(num_patches,1000)\n",
    "\n",
    "    train_loader = DataLoader(train_data, batch_size=2, shuffle=True) # shape: 2, 10, 24,3\n",
    "    # val_loader = DataLoader(val_data, batch_size=16, shuffle=True)\n",
    "    # test_loader = DataLoader(test_data, batch_size=16, shuffle=True)\n",
    "\n",
    "    for i, (data, norms) in enumerate(train_loader, 0):\n",
    "        inputs = data.float()\n",
    "        inputs = inputs.permute(0,3,1,2)\n",
    "        norms = norms.float()\n",
    "        norms = norms.permute(0,3,1,2)\n",
    "        optimizer.zero_grad()\n",
    "        out = model(inputs)\n",
    "        loss = loss_func(out, inputs)\n",
    "        loss.backward()\n",
    "        optimizer.step()\n",
    "        if i % 100 == 0:\n",
    "            print(f'epoch: {epoch}, loss: {loss.item()}')\n",
    "        \n"
   ]
  },
  {
   "cell_type": "code",
   "execution_count": null,
   "metadata": {},
   "outputs": [],
   "source": []
  }
 ],
 "metadata": {
  "kernelspec": {
   "display_name": "pytorch3d",
   "language": "python",
   "name": "python3"
  },
  "language_info": {
   "codemirror_mode": {
    "name": "ipython",
    "version": 3
   },
   "file_extension": ".py",
   "mimetype": "text/x-python",
   "name": "python",
   "nbconvert_exporter": "python",
   "pygments_lexer": "ipython3",
   "version": "3.9.18"
  }
 },
 "nbformat": 4,
 "nbformat_minor": 2
}
