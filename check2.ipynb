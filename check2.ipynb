{
 "cells": [
  {
   "cell_type": "code",
   "execution_count": 1,
   "metadata": {},
   "outputs": [],
   "source": [
    "import os\n",
    "from natsort import natsorted\n",
    "import glob\n",
    "import numpy as np  \n"
   ]
  },
  {
   "cell_type": "code",
   "execution_count": 2,
   "metadata": {},
   "outputs": [
    {
     "name": "stdout",
     "output_type": "stream",
     "text": [
      "383 381\n",
      "<U58 <U58\n",
      "gabdab\n",
      "2\n"
     ]
    }
   ],
   "source": [
    "pc_folder_path = 'pclouds' \n",
    "xyz_files = natsorted(glob.glob(os.path.join(pc_folder_path, \"*.xyz\")))\n",
    "normals_files = natsorted(glob.glob(os.path.join(pc_folder_path, \"*.normals\")))\n",
    "xyz_files = np.array(xyz_files)\n",
    "normals_files = np.array(normals_files)\n",
    "print(len(xyz_files), len(normals_files))   \n",
    "xyz_files = xyz_files.astype(\"U58\")\n",
    "print(xyz_files.dtype, normals_files.dtype)\n",
    "c=0\n",
    "data={}\n",
    "\n",
    "for xyz,norm in zip(xyz_files, normals_files):\n",
    "    xyz_name,_ = os.path.splitext(xyz)\n",
    "    norm_name,_ = os.path.splitext(norm)\n",
    "    # if(xyz_name == \"pclouds/tortuga100k_noise_white_8.00e-02\" or norm_name==\"pclouds/tortuga100k_noise_white_8.00e-02\"):\n",
    "    #     print(\"gabdab\")\n",
    "    if f\"{xyz_name}.normals\" not in normals_files or f\"{norm_name}.xyz\" not in xyz_files:\n",
    "        # if(xyz_name == \"pclouds/tortuga100k_noise_white_8.00e-02\" or norm_name==\"pclouds/tortuga100k_noise_white_8.00e-02\"):\n",
    "        #     print(\"gabdab.00e-02\")\n",
    "        c=c+1\n",
    "        continue\n",
    "    else:\n",
    "        data[xyz_name] = [xyz, f\"{xyz_name}.normals\"]\n",
    "        normals_files = np.delete(normals_files, np.where(normals_files==f\"{xyz_name}.normals\"))\n",
    "        xyz_files = np.delete(xyz_files, np.where(xyz_files==xyz))\n",
    "        \n",
    "print(c)\n",
    "    "
   ]
  },
  {
   "cell_type": "code",
   "execution_count": 99,
   "metadata": {},
   "outputs": [
    {
     "data": {
      "text/plain": [
       "379"
      ]
     },
     "execution_count": 99,
     "metadata": {},
     "output_type": "execute_result"
    }
   ],
   "source": [
    "len(data)"
   ]
  },
  {
   "cell_type": "code",
   "execution_count": 103,
   "metadata": {},
   "outputs": [
    {
     "data": {
      "text/plain": [
       "array(['pclouds/nyu_4.xyz', 'pclouds/nyu_4_whitenoise.xyz',\n",
       "       'pclouds/tortuga100k_noise_white_8.00e-02.xyz',\n",
       "       'pclouds/tortuga100k_noise_white_9.00e-02.xyz'], dtype='<U58')"
      ]
     },
     "execution_count": 103,
     "metadata": {},
     "output_type": "execute_result"
    }
   ],
   "source": [
    "xyz_files"
   ]
  },
  {
   "cell_type": "code",
   "execution_count": 104,
   "metadata": {},
   "outputs": [
    {
     "data": {
      "text/plain": [
       "array(['pclouds/tortuga100k_noise_white_8.00e-02.normals',\n",
       "       'pclouds/tortuga100k_noise_white_9.00e-02.normals'], dtype='<U58')"
      ]
     },
     "execution_count": 104,
     "metadata": {},
     "output_type": "execute_result"
    }
   ],
   "source": [
    "normals_files"
   ]
  },
  {
   "cell_type": "code",
   "execution_count": 42,
   "metadata": {},
   "outputs": [],
   "source": [
    "pc_folder_path = \"sample\"\n",
    "sample_xyz = natsorted(glob.glob(os.path.join(pc_folder_path, \"*.xyz\")))\n",
    "sample_norms = natsorted(glob.glob(os.path.join(pc_folder_path, \"*.normals\")))"
   ]
  },
  {
   "cell_type": "code",
   "execution_count": 43,
   "metadata": {},
   "outputs": [
    {
     "data": {
      "text/plain": [
       "['sample/tortuga100k_noise_white_8.00e-02.xyz',\n",
       " 'sample/tortuga100k_noise_white_9.00e-02.xyz']"
      ]
     },
     "execution_count": 43,
     "metadata": {},
     "output_type": "execute_result"
    }
   ],
   "source": [
    "sample_xyz"
   ]
  },
  {
   "cell_type": "code",
   "execution_count": 44,
   "metadata": {},
   "outputs": [
    {
     "data": {
      "text/plain": [
       "['sample/star_sharp100k_noise_white_9.00e-02.normals',\n",
       " 'sample/star_smooth100k_noise_white_5.00e-02.normals',\n",
       " 'sample/tortuga100k_noise_white_8.00e-02.normals',\n",
       " 'sample/tortuga100k_noise_white_9.00e-02.normals']"
      ]
     },
     "execution_count": 44,
     "metadata": {},
     "output_type": "execute_result"
    }
   ],
   "source": [
    "sample_norms"
   ]
  },
  {
   "cell_type": "code",
   "execution_count": 45,
   "metadata": {},
   "outputs": [
    {
     "name": "stdout",
     "output_type": "stream",
     "text": [
      "0\n"
     ]
    }
   ],
   "source": [
    "s=0\n",
    "sample_data={}\n",
    "\n",
    "for xyz,norm in zip(sample_xyz, sample_norms):\n",
    "    xyz_name,_ = os.path.splitext(xyz)\n",
    "    norm_name,_ = os.path.splitext(norm)\n",
    "    # if(xyz_name == \"pclouds/tortuga100k_noise_white_8.00e-02\" or norm_name==\"pclouds/tortuga100k_noise_white_8.00e-02\"):\n",
    "    #     print(\"gabdab\")\n",
    "    if f\"{xyz_name}.normals\" not in sample_norms :\n",
    "        # if(xyz_name == \"pclouds/tortuga100k_noise_white_8.00e-02\" or norm_name==\"pclouds/tortuga100k_noise_white_8.00e-02\"):\n",
    "        print(xyz_name, norm_name)\n",
    "        s=s+1\n",
    "        continue\n",
    "    else:\n",
    "        sample_data[xyz_name] = [xyz, f\"{xyz_name}.normals\"]\n",
    "        # sample_norms = np.delete(sample_norms, np.where(sample_norms==f\"{xyz_name}.normals\"))\n",
    "        # sample_xyz = np.delete(sample_xyz, np.where(sample_xyz==xyz))\n",
    "        \n",
    "print(s)\n",
    "    "
   ]
  },
  {
   "cell_type": "code",
   "execution_count": 46,
   "metadata": {},
   "outputs": [
    {
     "data": {
      "text/plain": [
       "['sample/star_sharp100k_noise_white_9.00e-02.normals',\n",
       " 'sample/star_smooth100k_noise_white_5.00e-02.normals',\n",
       " 'sample/tortuga100k_noise_white_8.00e-02.normals',\n",
       " 'sample/tortuga100k_noise_white_9.00e-02.normals']"
      ]
     },
     "execution_count": 46,
     "metadata": {},
     "output_type": "execute_result"
    }
   ],
   "source": [
    "sample_norms"
   ]
  },
  {
   "cell_type": "code",
   "execution_count": 47,
   "metadata": {},
   "outputs": [
    {
     "data": {
      "text/plain": [
       "['sample/tortuga100k_noise_white_8.00e-02.xyz',\n",
       " 'sample/tortuga100k_noise_white_9.00e-02.xyz']"
      ]
     },
     "execution_count": 47,
     "metadata": {},
     "output_type": "execute_result"
    }
   ],
   "source": [
    "sample_xyz"
   ]
  },
  {
   "cell_type": "code",
   "execution_count": 48,
   "metadata": {},
   "outputs": [
    {
     "data": {
      "text/plain": [
       "['sample/tortuga100k_noise_white_8.00e-02.xyz',\n",
       " 'sample/tortuga100k_noise_white_8.00e-02.normals']"
      ]
     },
     "execution_count": 48,
     "metadata": {},
     "output_type": "execute_result"
    }
   ],
   "source": [
    "sample_data[\"sample/tortuga100k_noise_white_8.00e-02\"]"
   ]
  },
  {
   "cell_type": "code",
   "execution_count": 49,
   "metadata": {},
   "outputs": [
    {
     "data": {
      "text/plain": [
       "array([[ 0.456378, -0.561482, -0.690258],\n",
       "       [-0.645407, -0.476559,  0.596943],\n",
       "       [-0.084254, -0.028434, -0.996039],\n",
       "       ...,\n",
       "       [ 0.579587, -0.392176,  0.714337],\n",
       "       [-0.962225,  0.026859, -0.270926],\n",
       "       [ 0.100653, -0.981068, -0.165451]])"
      ]
     },
     "execution_count": 49,
     "metadata": {},
     "output_type": "execute_result"
    }
   ],
   "source": [
    "np.loadtxt(\"sample/tortuga100k_noise_white_8.00e-02.normals\") "
   ]
  },
  {
   "cell_type": "code",
   "execution_count": 50,
   "metadata": {},
   "outputs": [
    {
     "data": {
      "text/plain": [
       "{'sample/tortuga100k_noise_white_8.00e-02': ['sample/tortuga100k_noise_white_8.00e-02.xyz',\n",
       "  'sample/tortuga100k_noise_white_8.00e-02.normals'],\n",
       " 'sample/tortuga100k_noise_white_9.00e-02': ['sample/tortuga100k_noise_white_9.00e-02.xyz',\n",
       "  'sample/tortuga100k_noise_white_9.00e-02.normals']}"
      ]
     },
     "execution_count": 50,
     "metadata": {},
     "output_type": "execute_result"
    }
   ],
   "source": [
    "sample_data"
   ]
  },
  {
   "cell_type": "code",
   "execution_count": 5,
   "metadata": {},
   "outputs": [
    {
     "name": "stdout",
     "output_type": "stream",
     "text": [
      "(383,) (381,)\n",
      "pclouds/nyu_4 pclouds/pipe100k\n"
     ]
    }
   ],
   "source": [
    "from natsort import natsorted\n",
    "from glob import glob\n",
    "import os\n",
    "import numpy as np\n",
    "\n",
    "path = 'pclouds'\n",
    "xyz_crap = np.array(natsorted(glob(os.path.join(path, \"*.xyz\"))))\n",
    "normals_crap = np.array(natsorted(glob(os.path.join(path, \"*.normals\"))))\n",
    "\n",
    "print(xyz_crap.shape,normals_crap.shape)\n",
    "\n",
    "for xyz, norm in zip(xyz_crap, normals_crap):\n",
    "    xyz_name, _ = os.path.splitext(xyz)\n",
    "    norm_name, _ = os.path.splitext(norm)\n",
    "    if(xyz_name!=norm_name):\n",
    "        print(xyz_name, norm_name)\n",
    "        break   "
   ]
  },
  {
   "cell_type": "code",
   "execution_count": 16,
   "metadata": {},
   "outputs": [
    {
     "data": {
      "text/plain": [
       "(381,)"
      ]
     },
     "execution_count": 16,
     "metadata": {},
     "output_type": "execute_result"
    }
   ],
   "source": [
    "curv_crap = np.array(natsorted(glob(os.path.join(path, \"*.curv\"))))\n",
    "curv_crap.shape"
   ]
  },
  {
   "cell_type": "code",
   "execution_count": 17,
   "metadata": {},
   "outputs": [
    {
     "name": "stdout",
     "output_type": "stream",
     "text": [
      "False\n"
     ]
    }
   ],
   "source": [
    "print(\"pclouds/nyu4.curv\" in curv_crap)"
   ]
  },
  {
   "cell_type": "code",
   "execution_count": 11,
   "metadata": {},
   "outputs": [],
   "source": [
    "xyz_crap = np.delete(xyz_crap, np.where(xyz_crap==\"pclouds/nyu_4.xyz\"))"
   ]
  },
  {
   "cell_type": "code",
   "execution_count": 12,
   "metadata": {},
   "outputs": [],
   "source": [
    "xyz_crap = np.delete(xyz_crap, np.where(xyz_crap==\"pclouds/nyu_4_whitenoise.xyz\"))"
   ]
  },
  {
   "cell_type": "code",
   "execution_count": 13,
   "metadata": {},
   "outputs": [
    {
     "data": {
      "text/plain": [
       "(381,)"
      ]
     },
     "execution_count": 13,
     "metadata": {},
     "output_type": "execute_result"
    }
   ],
   "source": [
    "xyz_crap.shape"
   ]
  },
  {
   "cell_type": "code",
   "execution_count": 19,
   "metadata": {},
   "outputs": [
    {
     "name": "stdout",
     "output_type": "stream",
     "text": [
      "(381,) (381,)\n"
     ]
    }
   ],
   "source": [
    "from natsort import natsorted\n",
    "from glob import glob\n",
    "import os\n",
    "import numpy as np\n",
    "\n",
    "\n",
    "print(xyz_crap.shape,normals_crap.shape)\n",
    "\n",
    "for xyz, curv in zip(normals_crap, curv_crap):\n",
    "    xyz_name, _ = os.path.splitext(xyz)\n",
    "    norm_name, _ = os.path.splitext(curv)\n",
    "    if(xyz_name!=norm_name):\n",
    "        print(xyz_name, norm_name)\n",
    "        break   \n",
    "    "
   ]
  },
  {
   "cell_type": "code",
   "execution_count": 15,
   "metadata": {},
   "outputs": [],
   "source": [
    "np.save(\"xyz_files\", xyz_crap)\n",
    "np.save(\"normals_files\", normals_crap)"
   ]
  },
  {
   "cell_type": "code",
   "execution_count": 20,
   "metadata": {},
   "outputs": [],
   "source": [
    "np.save(\"curv_files\", curv_crap)"
   ]
  },
  {
   "cell_type": "code",
   "execution_count": 25,
   "metadata": {},
   "outputs": [],
   "source": [
    "#########################\n",
    "## to check the patch files\n",
    "\n",
    "x = np.load(\"patches/pcd_0/pnt_0.npy\")"
   ]
  },
  {
   "cell_type": "code",
   "execution_count": 26,
   "metadata": {},
   "outputs": [
    {
     "data": {
      "text/plain": [
       "numpy.ndarray"
      ]
     },
     "execution_count": 26,
     "metadata": {},
     "output_type": "execute_result"
    }
   ],
   "source": [
    "type(x)"
   ]
  },
  {
   "cell_type": "code",
   "execution_count": 27,
   "metadata": {},
   "outputs": [
    {
     "data": {
      "text/plain": [
       "array([[-1.      ,  0.07598 , 11.72498 ],\n",
       "       [-1.      ,  0.114846, 11.709319],\n",
       "       [-1.      ,  0.079621, 11.730504],\n",
       "       [-1.      ,  0.090934, 11.721165],\n",
       "       [-1.      ,  0.112601, 11.715321],\n",
       "       [-1.      ,  0.080252, 11.703704],\n",
       "       [-1.      ,  0.101446, 11.704637],\n",
       "       [ 0.      ,  0.      ,  0.      ],\n",
       "       [ 0.      ,  0.      ,  0.      ],\n",
       "       [ 0.      ,  0.      ,  0.      ],\n",
       "       [ 0.      ,  0.      ,  0.      ],\n",
       "       [ 0.      ,  0.      ,  0.      ],\n",
       "       [ 0.      ,  0.      ,  0.      ],\n",
       "       [ 0.      ,  0.      ,  0.      ],\n",
       "       [ 0.      ,  0.      ,  0.      ],\n",
       "       [ 0.      ,  0.      ,  0.      ],\n",
       "       [ 0.      ,  0.      ,  0.      ],\n",
       "       [ 0.      ,  0.      ,  0.      ],\n",
       "       [ 0.      ,  0.      ,  0.      ],\n",
       "       [ 0.      ,  0.      ,  0.      ],\n",
       "       [ 0.      ,  0.      ,  0.      ],\n",
       "       [ 0.      ,  0.      ,  0.      ],\n",
       "       [ 0.      ,  0.      ,  0.      ],\n",
       "       [ 0.      ,  0.      ,  0.      ],\n",
       "       [ 0.      ,  0.      ,  0.      ]])"
      ]
     },
     "execution_count": 27,
     "metadata": {},
     "output_type": "execute_result"
    }
   ],
   "source": [
    "x[0]"
   ]
  },
  {
   "cell_type": "code",
   "execution_count": 28,
   "metadata": {},
   "outputs": [
    {
     "data": {
      "text/plain": [
       "(10, 25, 3)"
      ]
     },
     "execution_count": 28,
     "metadata": {},
     "output_type": "execute_result"
    }
   ],
   "source": [
    "x.shape"
   ]
  },
  {
   "cell_type": "code",
   "execution_count": null,
   "metadata": {},
   "outputs": [
    {
     "ename": "",
     "evalue": "",
     "output_type": "error",
     "traceback": [
      "\u001b[1;31mThe Kernel crashed while executing code in the the current cell or a previous cell. Please review the code in the cell(s) to identify a possible cause of the failure. Click <a href='https://aka.ms/vscodeJupyterKernelCrash'>here</a> for more info. View Jupyter <a href='command:jupyter.viewOutput'>log</a> for further details."
     ]
    }
   ],
   "source": [
    "os._exit(00)"
   ]
  },
  {
   "cell_type": "code",
   "execution_count": null,
   "metadata": {},
   "outputs": [],
   "source": []
  }
 ],
 "metadata": {
  "kernelspec": {
   "display_name": "pytorch3d",
   "language": "python",
   "name": "python3"
  },
  "language_info": {
   "codemirror_mode": {
    "name": "ipython",
    "version": 3
   },
   "file_extension": ".py",
   "mimetype": "text/x-python",
   "name": "python",
   "nbconvert_exporter": "python",
   "pygments_lexer": "ipython3",
   "version": "3.9.18"
  }
 },
 "nbformat": 4,
 "nbformat_minor": 2
}
