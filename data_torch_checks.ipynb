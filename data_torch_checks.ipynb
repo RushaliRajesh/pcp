{
 "cells": [
  {
   "cell_type": "code",
   "execution_count": 1,
   "metadata": {},
   "outputs": [
    {
     "name": "stdout",
     "output_type": "stream",
     "text": [
      "Jupyter environment detected. Enabling Open3D WebVisualizer.\n",
      "[Open3D INFO] WebRTC GUI backend enabled.\n",
      "[Open3D INFO] WebRTCWindowSystem: HTTP handshake server disabled.\n"
     ]
    }
   ],
   "source": [
    "import numpy as np\n",
    "import ckwrap\n",
    "from normals_init import find_neighs\n",
    "from joblib import Parallel, delayed\n",
    "import os\n",
    "import torch\n",
    "from torch_kmeans import KMeans"
   ]
  },
  {
   "cell_type": "code",
   "execution_count": 2,
   "metadata": {},
   "outputs": [],
   "source": [
    "all_pts = np.load(\"xyz_points.npy\")\n",
    "all_norms = np.load(\"init_normals.npy\")"
   ]
  },
  {
   "cell_type": "code",
   "execution_count": 3,
   "metadata": {},
   "outputs": [
    {
     "name": "stdout",
     "output_type": "stream",
     "text": [
      "neighs shape:  (100000, 249, 3)\n",
      "labels shape:  (100000, 249)\n",
      "labels shape: torch.Size([249])\n",
      "ind_clus shape:  torch.Size([23])\n",
      "coords shape:  torch.Size([23, 3])\n",
      "coords after adding random points:  tensor([[-1.0000e+00,  9.0934e-02,  1.1721e+01],\n",
      "        [-1.0000e+00,  1.0145e-01,  1.1705e+01],\n",
      "        [-1.0000e+00,  1.1260e-01,  1.1715e+01],\n",
      "        [-1.0000e+00,  7.9621e-02,  1.1731e+01],\n",
      "        [-1.0000e+00,  7.5980e-02,  1.1725e+01],\n",
      "        [-1.0000e+00,  8.0252e-02,  1.1704e+01],\n",
      "        [-1.0000e+00,  1.1485e-01,  1.1709e+01],\n",
      "        [-1.0000e+00,  9.9300e-02,  1.1695e+01],\n",
      "        [-1.0000e+00,  1.0221e-01,  1.1688e+01],\n",
      "        [-1.0000e+00,  7.8690e-02,  1.1748e+01],\n",
      "        [-1.0000e+00,  6.4145e-02,  1.1736e+01],\n",
      "        [-1.0000e+00,  8.7351e-02,  1.1753e+01],\n",
      "        [-1.0000e+00,  5.8686e-02,  1.1715e+01],\n",
      "        [-1.0000e+00,  8.8460e-02,  1.1756e+01],\n",
      "        [-1.0000e+00,  6.8877e-02,  1.1747e+01],\n",
      "        [-1.0000e+00,  6.3158e-02,  1.1694e+01],\n",
      "        [-1.0000e+00,  1.3373e-01,  1.1717e+01],\n",
      "        [-1.0000e+00,  6.6512e-02,  1.1748e+01],\n",
      "        [-1.0000e+00,  1.3288e-01,  1.1697e+01],\n",
      "        [-1.0000e+00,  1.2878e-01,  1.1691e+01],\n",
      "        [-1.0000e+00,  4.8731e-02,  1.1720e+01],\n",
      "        [-1.0000e+00,  6.6735e-02,  1.1756e+01],\n",
      "        [-1.0000e+00,  6.8291e-02,  1.1763e+01],\n",
      "        [ 0.0000e+00,  3.1113e-02, -1.5992e-02],\n",
      "        [ 0.0000e+00,  5.8614e-03, -3.0530e-02]], dtype=torch.float64)\n",
      "vec2 :  tensor([[ 0.0000e+00,  3.4530e-03, -2.8790e-03],\n",
      "        [ 0.0000e+00, -7.0590e-03,  1.3649e-02],\n",
      "        [ 0.0000e+00, -1.8214e-02,  2.9650e-03],\n",
      "        [ 0.0000e+00,  1.4766e-02, -1.2218e-02],\n",
      "        [ 0.0000e+00,  1.8407e-02, -6.6940e-03],\n",
      "        [ 0.0000e+00,  1.4135e-02,  1.4582e-02],\n",
      "        [ 0.0000e+00, -2.0459e-02,  8.9670e-03],\n",
      "        [ 0.0000e+00, -4.9130e-03,  2.2965e-02],\n",
      "        [ 0.0000e+00, -7.8210e-03,  3.0214e-02],\n",
      "        [ 0.0000e+00,  1.5697e-02, -2.9807e-02],\n",
      "        [ 0.0000e+00,  3.0242e-02, -1.7399e-02],\n",
      "        [ 0.0000e+00,  7.0360e-03, -3.4546e-02],\n",
      "        [ 0.0000e+00,  3.5701e-02,  3.5630e-03],\n",
      "        [ 0.0000e+00,  5.9270e-03, -3.7614e-02],\n",
      "        [ 0.0000e+00,  2.5510e-02, -2.9005e-02],\n",
      "        [ 0.0000e+00,  3.1229e-02,  2.3888e-02],\n",
      "        [ 0.0000e+00, -3.9342e-02,  1.4830e-03],\n",
      "        [ 0.0000e+00,  2.7875e-02, -2.9796e-02],\n",
      "        [ 0.0000e+00, -3.8490e-02,  2.1280e-02],\n",
      "        [ 0.0000e+00, -3.4389e-02,  2.7712e-02],\n",
      "        [ 0.0000e+00,  4.5656e-02, -2.2080e-03],\n",
      "        [ 0.0000e+00,  2.7652e-02, -3.8164e-02],\n",
      "        [ 0.0000e+00,  2.6096e-02, -4.4569e-02],\n",
      "        [-1.0000e+00,  6.3274e-02,  1.1734e+01],\n",
      "        [-1.0000e+00,  8.8526e-02,  1.1749e+01]], dtype=torch.float64)\n",
      "nearest vec magnitude:  tensor([4.4958e-03, 1.5366e-02, 1.8454e-02, 1.9165e-02, 1.9586e-02, 2.0308e-02,\n",
      "        2.2338e-02, 2.3485e-02, 3.1210e-02, 3.3688e-02, 3.4890e-02, 3.5255e-02,\n",
      "        3.5878e-02, 3.8078e-02, 3.8627e-02, 3.9318e-02, 3.9370e-02, 4.0802e-02,\n",
      "        4.3981e-02, 4.4165e-02, 4.5709e-02, 4.7129e-02, 5.1647e-02, 1.1777e+01,\n",
      "        1.1792e+01], dtype=torch.float64)\n",
      "torch.Size([3])\n",
      "after norm:  torch.Size([24, 3]) torch.Size([3])\n",
      "tensor([[-0.0851,  0.0086,  0.9963],\n",
      "        [-0.0850,  0.0096,  0.9963],\n",
      "        [-0.0849,  0.0068,  0.9964],\n",
      "        [-0.0850,  0.0065,  0.9964],\n",
      "        [-0.0851,  0.0068,  0.9963],\n",
      "        [-0.0851,  0.0098,  0.9963],\n",
      "        [-0.0852,  0.0085,  0.9963],\n",
      "        [-0.0852,  0.0087,  0.9963],\n",
      "        [-0.0848,  0.0067,  0.9964],\n",
      "        [-0.0849,  0.0054,  0.9964],\n",
      "        [-0.0848,  0.0074,  0.9964],\n",
      "        [-0.0851,  0.0050,  0.9964],\n",
      "        [-0.0848,  0.0075,  0.9964],\n",
      "        [-0.0848,  0.0058,  0.9964],\n",
      "        [-0.0852,  0.0054,  0.9963],\n",
      "        [-0.0850,  0.0114,  0.9963],\n",
      "        [-0.0848,  0.0056,  0.9964],\n",
      "        [-0.0852,  0.0113,  0.9963],\n",
      "        [-0.0852,  0.0110,  0.9963],\n",
      "        [-0.0850,  0.0041,  0.9964],\n",
      "        [-0.0848,  0.0057,  0.9964],\n",
      "        [-0.0847,  0.0058,  0.9964],\n",
      "        [ 0.0000,  0.8894, -0.4571],\n",
      "        [ 0.0000,  0.1885, -0.9821]], dtype=torch.float64)\n",
      "crs_pdts after norm shape:  torch.Size([24, 3])\n",
      "shapes for dot:  torch.Size([24, 3]) torch.Size([3])\n",
      "dot_pdts shape:  torch.Size([24])\n",
      "area shape:  torch.Size([24])\n",
      "area shape after multi with sign:  torch.Size([24])\n"
     ]
    },
    {
     "name": "stderr",
     "output_type": "stream",
     "text": [
      "/tmp/ipykernel_155082/104509350.py:57: UserWarning: The use of `x.T` on tensors of dimension other than 2 to reverse their shape is deprecated and it will throw an error in a future release. Consider `x.mT` to transpose batches of matrices or `x.permute(*torch.arange(x.ndim - 1, -1, -1))` to reverse the dimensions of a tensor. (Triggered internally at /opt/conda/conda-bld/pytorch_1666642975993/work/aten/src/ATen/native/TensorShape.cpp:3277.)\n",
      "  dot_pdts = torch.tensordot(crs_pdts, norms[i].T, dims=1) #check done, works as intented\n"
     ]
    }
   ],
   "source": [
    "'''creating patches via clustering'''\n",
    "\n",
    "def process_one_pcd(pts, norms, main_ind):\n",
    "    dists_ori, indices_ori = find_neighs(pts)\n",
    "    neighs = pts[indices_ori]\n",
    "    print(\"neighs shape: \", neighs.shape)\n",
    "    labels_per_row = np.apply_along_axis(lambda row: ckwrap.ckmeans(row, 5).labels, 1, dists_ori)\n",
    "    print(\"labels shape: \",labels_per_row.shape)\n",
    "\n",
    "    pts = torch.from_numpy(pts)\n",
    "    norms = torch.from_numpy(norms)\n",
    "    indices_ori = torch.from_numpy(indices_ori)\n",
    "    labels_per_row = torch.from_numpy(labels_per_row)\n",
    "\n",
    "    for i,( ind, labels) in enumerate(zip(indices_ori, labels_per_row)):\n",
    "        center = pts[i]\n",
    "        print(\"labels shape:\", labels.shape)\n",
    "        for clus in torch.unique(labels, dim=0):\n",
    "            # ind_clus = ind[np.where(labels == clus)]\n",
    "            ind_clus = ind[torch.where(labels==clus)]\n",
    "            print(\"ind_clus shape: \",ind_clus.shape)\n",
    "            coords = pts[ind_clus]\n",
    "            print(\"coords shape: \", coords.shape)\n",
    "\n",
    "            if(coords.shape[0] < 25):\n",
    "                # 2 random integers\n",
    "                for i in range(25-(coords.shape[0])):\n",
    "                    a, b = torch.randint(1, coords.shape[0], (2,))\n",
    "                    a_n, b_n = torch.divide(a, (a+b)), torch.divide(b, (a+b))\n",
    "                    rnd_pt = torch.add(torch.multiply(a_n, (center-coords[a])), torch.multiply(b_n, (center-coords[b]))).unsqueeze(0)\n",
    "                    coords = torch.cat((coords, rnd_pt), dim=0)\n",
    "            else:\n",
    "                coords = coords[:25]\n",
    "            \n",
    "            print(\"coords after adding random points: \", coords)\n",
    "\n",
    "            vec2 = torch.subtract(center,coords)\n",
    "            print(\"vec2 : \", vec2)\n",
    "            print(\"nearest vec magnitude: \", torch.linalg.norm(vec2, dim=1))\n",
    "            closest_ind = torch.argmin(torch.linalg.norm(vec2, dim=1))\n",
    "            closest = coords[closest_ind]\n",
    "            # vec2 = np.delete(coords, closest_ind, axis=0)\n",
    "            vec2 = torch.cat((coords[:closest_ind], coords[closest_ind+1:]), dim=0)\n",
    "            vec1 = torch.subtract(center, closest)\n",
    "            print(vec1.shape)\n",
    "            vec1 = torch.divide(vec1, torch.linalg.norm(vec1))\n",
    "            vec2 = torch.divide(vec2, torch.linalg.norm(vec2, dim=1, keepdim=True))\n",
    "            print(\"after norm: \", vec2.shape, vec1.shape)\n",
    "            print(vec2)\n",
    "            \n",
    "            crs_pdts = torch.cross(vec1.expand_as(vec2), vec2) #check done, works as intented\n",
    "            area = torch.linalg.norm(crs_pdts, dim=1)\n",
    "            crs_pdts = torch.divide(crs_pdts, torch.linalg.norm(crs_pdts, dim=1, keepdim=True))\n",
    "            print(\"crs_pdts after norm shape: \",crs_pdts.shape)\n",
    "            \n",
    "            print(\"shapes for dot: \", crs_pdts.shape, norms[i].shape)\n",
    "            dot_pdts = torch.tensordot(crs_pdts, norms[i].T, dims=1) #check done, works as intented\n",
    "            sign = torch.divide(dot_pdts, np.abs(dot_pdts))\n",
    "            print(\"dot_pdts shape: \",dot_pdts.shape)\n",
    "            print(\"area shape: \",area.shape)\n",
    "            area = torch.multiply(area, sign)\n",
    "            sort_indices = torch.argsort(area)\n",
    "            print(\"area shape after multi with sign: \",area.shape)\n",
    "            # area, orient, ind_clus = area[sort_indices], orient[sort_indices], ind_clus[sort_indices]\n",
    "            # coords_sorted= pts[ind_clus]\n",
    "            sorted_coords = coords[sort_indices]\n",
    "            \n",
    "            return dot_pdts, area, crs_pdts, coords, sorted_coords, vec1, vec2, sign, closest, center\n",
    "        #     mat.append(sorted_coords)\n",
    "        # mat = np.array(mat)\n",
    "        # np.save(\"patches/pcd_\"+str(main_ind)+\"/pnt_\"+str(i)+\".npy\", mat)\n",
    "            # break\n",
    "        break\n",
    "\n",
    "\n",
    "dot_pdts, area, crs_pdts, coords, sorted_coords, vec1, vec2, sign, closest, center = process_one_pcd(all_pts[0], all_norms[0], 0)"
   ]
  },
  {
   "cell_type": "code",
   "execution_count": 111,
   "metadata": {},
   "outputs": [
    {
     "name": "stdout",
     "output_type": "stream",
     "text": [
      "pts shape:  (100000, 3)\n",
      "neighs shape:  (100000, 249, 3)\n",
      "labels shape:  (100000, 249)\n",
      "0\n",
      "labels shape: torch.Size([249])\n",
      "ind_clus shape:  torch.Size([32])\n",
      "coords shape:  torch.Size([32, 3])\n",
      "magnitudes:  tensor([0.0255, 0.0258, 0.0293, 0.0394, 0.0456, 0.0463, 0.0497, 0.0502, 0.0507,\n",
      "        0.0509, 0.0521, 0.0542, 0.0564, 0.0570, 0.0584, 0.0599, 0.0605, 0.0613,\n",
      "        0.0616, 0.0627, 0.0672, 0.0681, 0.0688, 0.0693, 0.0697],\n",
      "       dtype=torch.float64)\n",
      "tensor([ 0.0014, -0.0164,  0.0196], dtype=torch.float64) tensor([ 3.3375, 14.7310, -1.9132], dtype=torch.float64)\n",
      "tensor([ 0.0555, -0.6408,  0.7657], dtype=torch.float64) tensor([ 0.2182,  0.9677, -0.1259], dtype=torch.float64)\n",
      "tensor([-0.6603,  0.1748,  0.1941], dtype=torch.float64)\n",
      "tensor([-0.9299,  0.2462,  0.2734], dtype=torch.float64)\n",
      "norms check:  0 torch.Size([3])\n",
      "tensor(-0.9758, dtype=torch.float64)\n",
      "dot_pdts shape:  torch.Size([24])\n",
      "area shape:  torch.Size([24])\n",
      "area shape after multi with sign:  torch.Size([24])\n"
     ]
    }
   ],
   "source": [
    "'''creating patches via clustering'''\n",
    "\n",
    "def process_one_pcd(pts, norms, main_ind):\n",
    "    dists_ori, indices_ori = find_neighs(pts)\n",
    "    print(\"pts shape: \", pts.shape)\n",
    "    neighs = pts[indices_ori]\n",
    "    print(\"neighs shape: \", neighs.shape)\n",
    "    labels_per_row = np.apply_along_axis(lambda row: ckwrap.ckmeans(row, 5).labels, 1, dists_ori)\n",
    "    print(\"labels shape: \",labels_per_row.shape)\n",
    "\n",
    "    pts = torch.from_numpy(pts)\n",
    "    norms = torch.from_numpy(norms)\n",
    "    indices_ori = torch.from_numpy(indices_ori)\n",
    "    labels_per_row = torch.from_numpy(labels_per_row)\n",
    "\n",
    "    for i,( ind, labels) in enumerate(zip(indices_ori, labels_per_row)):\n",
    "        print(i)\n",
    "        center = pts[i]\n",
    "        print(\"labels shape:\", labels.shape)\n",
    "        for clus in torch.unique(labels, dim=0):\n",
    "            # ind_clus = ind[np.where(labels == clus)]\n",
    "            ind_clus = ind[torch.where(labels==clus)]\n",
    "            print(\"ind_clus shape: \",ind_clus.shape)\n",
    "            coords = pts[ind_clus]\n",
    "            print(\"coords shape: \", coords.shape)\n",
    "\n",
    "            if(coords.shape[0] < 25):\n",
    "                # 2 random integers\n",
    "                for _ in range(25-(coords.shape[0])):\n",
    "                    a, b = torch.randint(1, coords.shape[0], (2,))\n",
    "                    a_n, b_n = torch.divide(a, (a+b)), torch.divide(b, (a+b))\n",
    "                    rnd_pt = torch.add(torch.multiply(a_n, (center-coords[a])), torch.multiply(b_n, (center-coords[b]))).unsqueeze(0)\n",
    "                    coords = torch.cat((coords, rnd_pt), dim=0)\n",
    "            else:\n",
    "                coords = coords[:25]\n",
    "            \n",
    "            # print(\"coords after adding random points: \", coords)\n",
    "\n",
    "            \n",
    "            vec2 = torch.subtract(center, coords)\n",
    "            print(\"magnitudes: \", torch.linalg.norm(vec2, dim=1))\n",
    "            closest_ind = torch.argmin(torch.linalg.norm(vec2, dim=1))\n",
    "            closest = coords[closest_ind]\n",
    "            vec1 = torch.subtract(center, closest)\n",
    "            vec2 = torch.cat((coords[:closest_ind], coords[closest_ind+1:]), dim=0)\n",
    "            print(vec1, vec2[2,:])\n",
    "            vec1 = torch.divide(vec1, torch.linalg.norm(vec1))\n",
    "            vec2 = torch.divide(vec2, torch.linalg.norm(vec2, dim=1, keepdim=True))\n",
    "            print(vec1, vec2[0,:])\n",
    "            crs_pdts = torch.cross(vec1.expand_as(vec2), vec2)\n",
    "            print(crs_pdts[2,:])\n",
    "            area = torch.linalg.norm(crs_pdts, dim=1)\n",
    "            crs_pdts = torch.divide(crs_pdts, torch.linalg.norm(crs_pdts, dim=1, keepdim=True))\n",
    "            print(crs_pdts[2,:])\n",
    "            print(\"norms check: \", i, norms[i].shape)\n",
    "            dot_pdts = torch.tensordot(crs_pdts, norms[i].T, dims=1)\n",
    "            print(dot_pdts[2])\n",
    "            sign = torch.divide(dot_pdts, torch.abs(dot_pdts))\n",
    "            print(\"dot_pdts shape: \",dot_pdts.shape)\n",
    "            print(\"area shape: \",area.shape)\n",
    "            area = torch.multiply(area, sign)\n",
    "            sort_indices = torch.argsort(area)\n",
    "            print(\"area shape after multi with sign: \",area.shape)\n",
    "            # area, orient, ind_clus = area[sort_indices], orient[sort_indices], ind_clus[sort_indices]\n",
    "            # coords_sorted= pts[ind_clus]\n",
    "            sorted_coords = coords[sort_indices]\n",
    "            \n",
    "            return dot_pdts, area, crs_pdts, coords, sorted_coords, vec1, vec2, sign, closest, center\n",
    "        #     mat.append(sorted_coords)\n",
    "        # mat = np.array(mat)\n",
    "        # np.save(\"patches/pcd_\"+str(main_ind)+\"/pnt_\"+str(i)+\".npy\", mat)\n",
    "            # break\n",
    "        break\n",
    "\n",
    "\n",
    "dot_pdts, area, crs_pdts, coords, sorted_coords, vec1, vec2, sign, closest, center = process_one_pcd(all_pts[200], all_norms[200], 0)"
   ]
  },
  {
   "cell_type": "code",
   "execution_count": 99,
   "metadata": {},
   "outputs": [],
   "source": [
    "# clean version\n",
    "\n",
    "'''creating patches via clustering'''\n",
    "\n",
    "def process_one_pcd(pts, norms, main_ind):\n",
    "    dists_ori, indices_ori = find_neighs(pts)\n",
    "    neighs = pts[indices_ori]\n",
    "    labels_per_row = np.apply_along_axis(lambda row: ckwrap.ckmeans(row, 5).labels, 1, dists_ori)\n",
    "\n",
    "    pts = torch.from_numpy(pts)\n",
    "    norms = torch.from_numpy(norms)\n",
    "    indices_ori = torch.from_numpy(indices_ori)\n",
    "    labels_per_row = torch.from_numpy(labels_per_row)\n",
    "\n",
    "    for i,( ind, labels) in enumerate(zip(indices_ori, labels_per_row)):\n",
    "        center = pts[i]\n",
    "        for clus in torch.unique(labels, dim=0):\n",
    "            # ind_clus = ind[np.where(labels == clus)]\n",
    "            ind_clus = ind[torch.where(labels==clus)]\n",
    "            coords = pts[ind_clus]\n",
    "\n",
    "            if(coords.shape[0] < 25):\n",
    "                # 2 random integers\n",
    "                for _ in range(25-(coords.shape[0])):\n",
    "                    a, b = torch.randint(1, coords.shape[0], (2,))\n",
    "                    a_n, b_n = torch.divide(a, (a+b)), torch.divide(b, (a+b))\n",
    "                    rnd_pt = torch.add(torch.multiply(a_n, (center-coords[a])), torch.multiply(b_n, (center-coords[b]))).unsqueeze(0)\n",
    "                    coords = torch.cat((coords, rnd_pt), dim=0)\n",
    "            else:\n",
    "                coords = coords[:25]\n",
    "            \n",
    "            # print(\"coords after adding random points: \", coords)\n",
    "\n",
    "            \n",
    "            vec2 = torch.subtract(center, coords)\n",
    "            closest_ind = torch.argmin(torch.linalg.norm(vec2, dim=1))\n",
    "            closest = coords[closest_ind]\n",
    "            vec1 = torch.subtract(center, closest)\n",
    "            vec2 = torch.cat((vec2[:closest_ind], vec2[closest_ind+1:]), dim=0)\n",
    "            vec1 = torch.divide(vec1, torch.linalg.norm(vec1))\n",
    "            vec2 = torch.divide(vec2, torch.linalg.norm(vec2, dim=1, keepdim=True))\n",
    "            crs_pdts = torch.cross(vec1.expand_as(vec2), vec2)\n",
    "            area = torch.linalg.norm(crs_pdts, dim=1)\n",
    "            crs_pdts = torch.divide(crs_pdts, torch.linalg.norm(crs_pdts, dim=1, keepdim=True))\n",
    "            dot_pdts = torch.tensordot(crs_pdts, norms[i].T, dims=1)\n",
    "            sign = torch.divide(dot_pdts, np.abs(dot_pdts))\n",
    "            area = torch.multiply(area, sign)\n",
    "            sort_indices = torch.argsort(area)\n",
    "            sorted_coords = coords[sort_indices]\n",
    "            \n",
    "            return dot_pdts, area, crs_pdts, coords, sorted_coords, vec1, vec2, sign, closest, center, closest_ind\n",
    "            \n",
    "        #     mat.append(sorted_coords)\n",
    "        # mat = np.array(mat)\n",
    "        # np.save(\"patches/pcd_\"+str(main_ind)+\"/pnt_\"+str(i)+\".npy\", mat)\n",
    "            # break\n",
    "        break\n",
    "\n",
    "\n",
    "dot_pdts, area, crs_pdts, coords, sorted_coords, vec1, vec2, sign, closest, center, c_ind = process_one_pcd(all_pts[0], all_norms[0], 0)"
   ]
  },
  {
   "cell_type": "code",
   "execution_count": 100,
   "metadata": {},
   "outputs": [
    {
     "data": {
      "text/plain": [
       "tensor([ 0.3880, -0.5087,  0.0037,  0.3393,  0.9972, -0.2782,  0.6171,  0.5831,\n",
       "        -0.3812,  0.1721, -0.6248,  0.7135, -0.6590, -0.1538,  0.9753, -0.6110,\n",
       "        -0.1234, -0.1888, -0.0167,  0.6025, -0.2462, -0.3392,  0.7738,  0.7770],\n",
       "       dtype=torch.float64)"
      ]
     },
     "execution_count": 100,
     "metadata": {},
     "output_type": "execute_result"
    }
   ],
   "source": [
    "area"
   ]
  },
  {
   "cell_type": "code",
   "execution_count": 101,
   "metadata": {},
   "outputs": [
    {
     "data": {
      "text/plain": [
       "tensor([ 1., -1.,  1.,  1.,  1., -1.,  1.,  1., -1.,  1., -1.,  1., -1., -1.,\n",
       "         1., -1., -1., -1., -1.,  1., -1., -1.,  1.,  1.], dtype=torch.float64)"
      ]
     },
     "execution_count": 101,
     "metadata": {},
     "output_type": "execute_result"
    }
   ],
   "source": [
    "sign"
   ]
  },
  {
   "cell_type": "code",
   "execution_count": 102,
   "metadata": {},
   "outputs": [
    {
     "data": {
      "text/plain": [
       "tensor([ 0.9956, -0.9956,  0.9956,  0.9956,  0.9956, -0.9956,  0.9956,  0.9956,\n",
       "        -0.9956,  0.9956, -0.9956,  0.9956, -0.9956, -0.9956,  0.9956, -0.9956,\n",
       "        -0.9956, -0.9956, -0.9956,  0.9956, -0.9956, -0.9956,  0.9833,  0.9833],\n",
       "       dtype=torch.float64)"
      ]
     },
     "execution_count": 102,
     "metadata": {},
     "output_type": "execute_result"
    }
   ],
   "source": [
    "dot_pdts"
   ]
  },
  {
   "cell_type": "code",
   "execution_count": 27,
   "metadata": {},
   "outputs": [
    {
     "name": "stdout",
     "output_type": "stream",
     "text": [
      "tensor([ 0.0000,  0.0035, -0.0029], dtype=torch.float64) tensor([ 0.0000, -0.0182,  0.0030], dtype=torch.float64)\n",
      "tensor([ 0.0000,  0.7681, -0.6404], dtype=torch.float64) tensor([ 0.0000, -0.9870,  0.1607], dtype=torch.float64)\n",
      "tensor([-0.5087, -0.0000, -0.0000], dtype=torch.float64)\n",
      "tensor([-1., -0., -0.], dtype=torch.float64)\n",
      "tensor(-0.9956, dtype=torch.float64)\n"
     ]
    }
   ],
   "source": [
    "# print(coords.shape)\n",
    "# print(closest, all_pts[0][0])\n",
    "\n",
    "vec1 = torch.subtract(center, closest)\n",
    "vec2 = torch.subtract(center, coords[2])\n",
    "print(vec1, vec2)\n",
    "vec1 = torch.divide(vec1, torch.linalg.norm(vec1))\n",
    "vec2 = torch.divide(vec2, torch.linalg.norm(vec2))\n",
    "print(vec1, vec2)\n",
    "crs = torch.cross(vec1, vec2)\n",
    "print(crs)\n",
    "crs = torch.divide(crs, torch.linalg.norm(crs))\n",
    "print(crs)\n",
    "dot = torch.dot(crs, torch.tensor(all_norms[0][0]))\n",
    "print(dot)"
   ]
  },
  {
   "cell_type": "code",
   "execution_count": 90,
   "metadata": {},
   "outputs": [],
   "source": [
    "# print(vec2_r, vec2)"
   ]
  },
  {
   "cell_type": "code",
   "execution_count": 96,
   "metadata": {},
   "outputs": [
    {
     "data": {
      "text/plain": [
       "tensor(0)"
      ]
     },
     "execution_count": 96,
     "metadata": {},
     "output_type": "execute_result"
    }
   ],
   "source": [
    "c_ind"
   ]
  },
  {
   "cell_type": "code",
   "execution_count": 95,
   "metadata": {},
   "outputs": [
    {
     "data": {
      "text/plain": [
       "tensor([[-0.0851,  0.0086,  0.9963],\n",
       "        [-0.0850,  0.0096,  0.9963],\n",
       "        [-0.0849,  0.0068,  0.9964],\n",
       "        [-0.0850,  0.0065,  0.9964],\n",
       "        [-0.0851,  0.0068,  0.9963],\n",
       "        [-0.0851,  0.0098,  0.9963],\n",
       "        [-0.0852,  0.0085,  0.9963],\n",
       "        [-0.0852,  0.0087,  0.9963],\n",
       "        [-0.0848,  0.0067,  0.9964],\n",
       "        [-0.0849,  0.0054,  0.9964],\n",
       "        [-0.0848,  0.0074,  0.9964],\n",
       "        [-0.0851,  0.0050,  0.9964],\n",
       "        [-0.0848,  0.0075,  0.9964],\n",
       "        [-0.0848,  0.0058,  0.9964],\n",
       "        [-0.0852,  0.0054,  0.9963],\n",
       "        [-0.0850,  0.0114,  0.9963],\n",
       "        [-0.0848,  0.0056,  0.9964],\n",
       "        [-0.0852,  0.0113,  0.9963],\n",
       "        [-0.0852,  0.0110,  0.9963],\n",
       "        [-0.0850,  0.0041,  0.9964],\n",
       "        [-0.0848,  0.0057,  0.9964],\n",
       "        [-0.0847,  0.0058,  0.9964],\n",
       "        [ 0.0000,  0.9811, -0.1935],\n",
       "        [ 0.0000,  0.4968, -0.8679]], dtype=torch.float64)"
      ]
     },
     "execution_count": 95,
     "metadata": {},
     "output_type": "execute_result"
    }
   ],
   "source": [
    "vec2"
   ]
  },
  {
   "cell_type": "code",
   "execution_count": 98,
   "metadata": {},
   "outputs": [
    {
     "data": {
      "text/plain": [
       "tensor([[-1.0000e+00,  1.0145e-01,  1.1705e+01],\n",
       "        [-1.0000e+00,  1.1260e-01,  1.1715e+01],\n",
       "        [-1.0000e+00,  7.9621e-02,  1.1731e+01],\n",
       "        [-1.0000e+00,  7.5980e-02,  1.1725e+01],\n",
       "        [-1.0000e+00,  8.0252e-02,  1.1704e+01],\n",
       "        [-1.0000e+00,  1.1485e-01,  1.1709e+01],\n",
       "        [-1.0000e+00,  9.9300e-02,  1.1695e+01],\n",
       "        [-1.0000e+00,  1.0221e-01,  1.1688e+01],\n",
       "        [-1.0000e+00,  7.8690e-02,  1.1748e+01],\n",
       "        [-1.0000e+00,  6.4145e-02,  1.1736e+01],\n",
       "        [-1.0000e+00,  8.7351e-02,  1.1753e+01],\n",
       "        [-1.0000e+00,  5.8686e-02,  1.1715e+01],\n",
       "        [-1.0000e+00,  8.8460e-02,  1.1756e+01],\n",
       "        [-1.0000e+00,  6.8877e-02,  1.1747e+01],\n",
       "        [-1.0000e+00,  6.3158e-02,  1.1694e+01],\n",
       "        [-1.0000e+00,  1.3373e-01,  1.1717e+01],\n",
       "        [-1.0000e+00,  6.6512e-02,  1.1748e+01],\n",
       "        [-1.0000e+00,  1.3288e-01,  1.1697e+01],\n",
       "        [-1.0000e+00,  1.2878e-01,  1.1691e+01],\n",
       "        [-1.0000e+00,  4.8731e-02,  1.1720e+01],\n",
       "        [-1.0000e+00,  6.6735e-02,  1.1756e+01],\n",
       "        [-1.0000e+00,  6.8291e-02,  1.1763e+01],\n",
       "        [ 0.0000e+00,  1.3314e-02, -2.6254e-03],\n",
       "        [ 0.0000e+00,  1.6499e-02, -2.8825e-02]], dtype=torch.float64)"
      ]
     },
     "execution_count": 98,
     "metadata": {},
     "output_type": "execute_result"
    }
   ],
   "source": [
    "vec2_r = torch.cat((coords[:c_ind], coords[c_ind+1:]), dim=0)\n",
    "vec2_r"
   ]
  },
  {
   "cell_type": "code",
   "execution_count": 109,
   "metadata": {},
   "outputs": [
    {
     "name": "stdout",
     "output_type": "stream",
     "text": [
      "tensor([ 0.0000,  0.0035, -0.0029], dtype=torch.float64) tensor([ 0.0000, -0.0182,  0.0030], dtype=torch.float64)\n",
      "tensor([ 0.0000,  0.7681, -0.6404], dtype=torch.float64) tensor([ 0.0000,  0.7681, -0.6404], dtype=torch.float64)\n",
      "tensor([-0.5087, -0.0000, -0.0000], dtype=torch.float64)\n",
      "tensor([-1., -0., -0.], dtype=torch.float64)\n",
      "tensor([ 0.9956, -0.9956,  0.9956,  0.9956,  0.9956, -0.9956,  0.9956,  0.9956,\n",
      "        -0.9956,  0.9956, -0.9956,  0.9956, -0.9956, -0.9956,  0.9956, -0.9956,\n",
      "        -0.9956, -0.9956, -0.9956,  0.9956, -0.9956, -0.9956,  0.9833,  0.9833],\n",
      "       dtype=torch.float64)\n"
     ]
    }
   ],
   "source": [
    "vec1_r = torch.subtract(center, closest)\n",
    "vec2_r = torch.subtract(center, coords)\n",
    "print(vec1_r, vec2_r[2,:])\n",
    "vec1_r = torch.divide(vec1_r, torch.linalg.norm(vec1_r))\n",
    "vec2_r = torch.divide(vec2_r, torch.linalg.norm(vec2_r, dim=1, keepdim=True))\n",
    "print(vec1_r, vec2_r[0,:])\n",
    "crs = torch.cross(vec1_r.expand_as(vec2_r), vec2_r)\n",
    "print(crs[2,:])\n",
    "crs = torch.divide(crs, torch.linalg.norm(crs, dim=1, keepdim=True))\n",
    "print(crs[2,:])\n",
    "dots = torch.tensordot(crs, torch.tensor(all_norms[0][0]).T, dims=1)\n",
    "print(dots[1:])\n",
    "# print(crs)"
   ]
  },
  {
   "cell_type": "code",
   "execution_count": 108,
   "metadata": {},
   "outputs": [
    {
     "name": "stdout",
     "output_type": "stream",
     "text": [
      "tensor([ 0.0000,  0.7681, -0.6404], dtype=torch.float64) tensor([ 0.0000,  0.7704, -0.6375], dtype=torch.float64)\n",
      "tensor([ 0.0000,  0.7681, -0.6404], dtype=torch.float64) tensor([ 0.0000, -0.4594,  0.8882], dtype=torch.float64)\n",
      "tensor([0.0037, 0.0000, 0.0000], dtype=torch.float64)\n",
      "tensor([1., 0., 0.], dtype=torch.float64)\n",
      "tensor([ 0.9956, -0.9956,  0.9956,  0.9956,  0.9956, -0.9956,  0.9956,  0.9956,\n",
      "        -0.9956,  0.9956, -0.9956,  0.9956, -0.9956, -0.9956,  0.9956, -0.9956,\n",
      "        -0.9956, -0.9956, -0.9956,  0.9956, -0.9956, -0.9956,  0.9833,  0.9833],\n",
      "       dtype=torch.float64)\n"
     ]
    }
   ],
   "source": [
    "\n",
    "print(vec1, vec2[2,:])\n",
    "vec1 = torch.divide(vec1, torch.linalg.norm(vec1))\n",
    "vec2 = torch.divide(vec2, torch.linalg.norm(vec2, dim=1, keepdim=True))\n",
    "print(vec1, vec2[0,:])\n",
    "crs = torch.cross(vec1.expand_as(vec2), vec2)\n",
    "print(crs[2,:])\n",
    "crs = torch.divide(crs, torch.linalg.norm(crs, dim=1, keepdim=True))\n",
    "print(crs[2,:])\n",
    "dots = torch.tensordot(crs, torch.tensor(all_norms[0][0]).T, dims=1)\n",
    "print(dots)\n",
    "# print(crs)"
   ]
  },
  {
   "cell_type": "code",
   "execution_count": 112,
   "metadata": {},
   "outputs": [
    {
     "name": "stdout",
     "output_type": "stream",
     "text": [
      "(100000, 3) (100000, 3)\n",
      "using %d gpus:  2\n",
      "tensor([ 0.9956, -0.9956,  0.9956,  0.9956,  0.9956, -0.9956,  0.9956,  0.9956,\n",
      "        -0.9956,  0.9956, -0.9956,  0.9956, -0.9956, -0.9956,  0.9956, -0.9956,\n",
      "        -0.9956, -0.9956, -0.9956,  0.9956, -0.9956, -0.9956,  0.9833,  0.9833],\n",
      "       device='cuda:0', dtype=torch.float64)\n",
      "tensor([-0.9956, -0.9956, -0.9956, -0.9956, -0.9956, -0.9956, -0.9956, -0.9956,\n",
      "        -0.9956, -0.9956,  0.9956, -0.9956, -0.9960,  0.9956, -0.9956, -0.9956,\n",
      "         0.9956,  0.9956,  0.9956,  0.9956, -0.9956,  0.9956,  0.9956, -0.9956],\n",
      "       device='cuda:0', dtype=torch.float64)\n",
      "tensor([ 0.9956,  0.9956, -0.9956,  0.9956,  0.9956,  0.9956, -0.9960,  0.9956,\n",
      "        -0.9956, -0.9956,  0.9956, -0.9956,  0.9956,  0.9956, -0.9956, -0.9956,\n",
      "         0.9956,  0.9956,  0.9956, -0.9956, -0.9956, -0.9938, -0.9818,  0.9956],\n",
      "       device='cuda:0', dtype=torch.float64)\n",
      "tensor([-0.9956,  0.9972,  0.9956,  0.9956, -0.9956, -0.9956, -0.9956, -0.9956,\n",
      "        -0.9956,  0.9614,  0.9972, -0.9774, -0.9956, -0.9956,  0.9885,  0.9970,\n",
      "         0.9973,  0.9862, -0.9956, -0.9956,  0.9956,  0.9956, -0.9956, -0.9956],\n",
      "       device='cuda:0', dtype=torch.float64)\n",
      "tensor([-0.9791, -0.9895,  0.9953,  0.9971,  0.8359,  0.9974, -0.9985, -0.9824,\n",
      "        -0.9968, -0.9851,  0.9967, -0.9842, -0.9992, -0.9689, -0.9977,  0.9760,\n",
      "         0.9960,  0.9958, -0.9746, -0.9977, -0.9775,  0.9977, -0.9747,  0.9952],\n",
      "       device='cuda:0', dtype=torch.float64)\n"
     ]
    }
   ],
   "source": [
    "'''this is the nice and final vala process_one_pcd function that i used in the data_patches.py file but it has ckmeans, the next code cell has torch kmeans\n",
    "and this code runs perfectly fine, have checked it.'''\n",
    "\n",
    "def process_one_pcd(main_ind, point_ind=0):\n",
    "    all_pts = np.load(\"xyz_points.npy\")\n",
    "    all_norms = np.load(\"init_normals.npy\")\n",
    "    pts = all_pts[main_ind]\n",
    "    norms = all_norms[main_ind]\n",
    "    print(pts.shape, norms.shape)\n",
    "    dists_ori, indices_ori = find_neighs(pts)\n",
    "    neighs = pts[indices_ori]\n",
    "    labels_per_row = np.apply_along_axis(lambda row: ckwrap.ckmeans(row, 5).labels, 1, dists_ori)\n",
    "\n",
    "    print(f'using %d gpus: ', torch.cuda.device_count())\n",
    "    #pts to gpu\n",
    "    pts = torch.from_numpy(pts).cuda()\n",
    "    norms = torch.from_numpy(norms).cuda()\n",
    "    indices_ori = torch.from_numpy(indices_ori).cuda()\n",
    "    labels_per_row = torch.from_numpy(labels_per_row).cuda()\n",
    "\n",
    "    i = point_ind\n",
    "    ind = indices_ori[i]\n",
    "    labels = labels_per_row[i]\n",
    "    # for i,( ind, labels) in enumerate(zip(indices_ori, labels_per_row)):\n",
    "    center = pts[i]\n",
    "    mat = []\n",
    "    for clus in torch.unique(labels, dim=0):\n",
    "        # ind_clus = ind[np.where(labels == clus)]\n",
    "        ind_clus = ind[torch.where(labels==clus)]\n",
    "        coords = pts[ind_clus]\n",
    "\n",
    "        if(coords.shape[0] < 25):\n",
    "            # 2 random integers\n",
    "            for _ in range(25-(coords.shape[0])):\n",
    "                a, b = torch.randint(1, coords.shape[0], (2,))\n",
    "                a_n, b_n = torch.divide(a, (a+b)), torch.divide(b, (a+b))\n",
    "                rnd_pt = torch.add(torch.multiply(a_n, (center-coords[a])), torch.multiply(b_n, (center-coords[b]))).unsqueeze(0)\n",
    "                coords = torch.cat((coords, rnd_pt), dim=0)\n",
    "        else:\n",
    "            coords = coords[:25]\n",
    "        \n",
    "        # print(\"coords after adding random points: \", coords)\n",
    "\n",
    "        \n",
    "        vec2 = torch.subtract(center, coords)\n",
    "        closest_ind = torch.argmin(torch.linalg.norm(vec2, dim=1))\n",
    "        closest = coords[closest_ind]\n",
    "        vec1 = torch.subtract(center, closest)\n",
    "        vec2 = torch.cat((vec2[:closest_ind], vec2[closest_ind+1:]), dim=0)\n",
    "        vec1 = torch.divide(vec1, torch.linalg.norm(vec1))\n",
    "        vec2 = torch.divide(vec2, torch.linalg.norm(vec2, dim=1, keepdim=True))\n",
    "        crs_pdts = torch.cross(vec1.expand_as(vec2), vec2)\n",
    "        area = torch.linalg.norm(crs_pdts, dim=1)\n",
    "        crs_pdts = torch.divide(crs_pdts, torch.linalg.norm(crs_pdts, dim=1, keepdim=True))\n",
    "        dot_pdts = torch.tensordot(crs_pdts, norms[i].T, dims=1)\n",
    "        print(dot_pdts)\n",
    "        sign = torch.divide(dot_pdts, torch.abs(dot_pdts))\n",
    "        area = torch.multiply(area, sign)\n",
    "        sort_indices = torch.argsort(area)\n",
    "        sorted_coords = coords[sort_indices]\n",
    "        \n",
    "        # return dot_pdts, area, crs_pdts, coords, sorted_coords, vec1, vec2, sign, closest, center, closest_ind\n",
    "        \n",
    "        mat.append(sorted_coords)\n",
    "        # print(\"device of mat: \", mat[-1].device)\n",
    "    mat = np.array([tensor.cpu().numpy() for tensor in mat])\n",
    "\n",
    "    return mat\n",
    "\n",
    "mat = process_one_pcd(0, 0)"
   ]
  },
  {
   "cell_type": "code",
   "execution_count": 151,
   "metadata": {},
   "outputs": [
    {
     "name": "stdout",
     "output_type": "stream",
     "text": [
      "(100000, 3) (100000, 3)\n",
      "Full batch converged at iteration 13/100 with center shifts = tensor([2.6888e-05], device='cuda:0', dtype=torch.float64).\n",
      "using %d gpus:  2\n",
      "torch.Size([249])\n",
      "tensor([ 0.9955, -0.6616,  0.9932, -0.9920,  0.9977,  0.9985,  0.9008,  0.9983,\n",
      "         0.9948,  0.9949, -0.9767, -0.9961, -0.9976, -0.3358, -0.9941, -0.9985,\n",
      "         0.9941,  0.9952, -0.9957, -0.9983, -0.9919, -0.0046, -0.9982,  0.9956],\n",
      "       device='cuda:0', dtype=torch.float64)\n",
      "tensor([-0.9956, -0.9956, -0.9956, -0.9956, -0.9956, -0.9956, -0.9956, -0.9956,\n",
      "        -0.9956, -0.9956,  0.9956, -0.9956, -0.9960,  0.9956, -0.9956, -0.9956,\n",
      "         0.9956,  0.9806,  0.9805,  0.9805,  0.9805,  0.9805,  0.9802,  0.9805],\n",
      "       device='cuda:0', dtype=torch.float64)\n",
      "tensor([-0.9956, -0.9956,  0.9956, -0.9956,  0.9956, -0.9956, -0.9956,  0.9956,\n",
      "        -0.9956,  0.9956,  0.9956, -0.9956, -0.9956, -0.9956, -0.9158, -0.9159,\n",
      "        -0.9163, -0.9156, -0.9200, -0.9173, -0.9173, -0.9178, -0.9185, -0.9156],\n",
      "       device='cuda:0', dtype=torch.float64)\n",
      "tensor([-0.9956, -0.9956,  0.9956, -0.9956, -0.9956,  0.9956, -0.9956, -0.9956,\n",
      "         0.9966, -0.9956, -0.9956, -0.9956,  0.9956, -0.9956, -0.9956, -0.9956,\n",
      "         0.9966,  0.9971,  0.9956, -0.9956,  0.9956,  0.9956,  0.9972,  0.9958],\n",
      "       device='cuda:0', dtype=torch.float64)\n",
      "tensor([ 0.9588, -0.9994,  0.9967,  0.9995,  0.9487,  0.9689,  0.9567, -0.9988,\n",
      "        -0.9980, -0.9384, -0.9872,  0.9362,  0.9990,  0.9949,  0.9988,  0.9262,\n",
      "        -0.9959,  0.9994, -0.9994,  0.9235, -0.9994,  0.9136,  0.9909,  0.9876],\n",
      "       device='cuda:0', dtype=torch.float64)\n",
      "tensor([ 0.9956, -0.9956,  0.9956,  0.9956,  0.9956, -0.9956,  0.9956,  0.9833,\n",
      "         0.9833,  0.9833,  0.9833,  0.9833,  0.9833,  0.9833,  0.9833,  0.9833,\n",
      "         0.9833,  0.9833,  0.9833,  0.9833,  0.9833,  0.9833,  0.9833,  0.9833],\n",
      "       device='cuda:0', dtype=torch.float64)\n",
      "tensor([ 0.9956, -0.9956, -0.9956, -0.9956, -0.9956, -0.9956,  0.9972,  0.9984,\n",
      "         0.9979, -0.9956, -0.9956,  0.9963,  0.9985,  0.9982,  0.9958, -0.9956,\n",
      "        -0.9956,  0.9956,  0.9956, -0.9956, -0.9956, -0.9956,  0.9956, -0.9956],\n",
      "       device='cuda:0', dtype=torch.float64)\n",
      "tensor([-0.9644, -0.9785,  0.9287,  0.9480, -0.6011, -0.9324, -0.9826, -0.6218,\n",
      "        -0.9834, -0.9464, -0.1125,  0.9605, -0.9534,  0.8287,  0.9747, -0.4786,\n",
      "         0.8845,  0.8042, -0.9832, -0.9777,  0.9186, -0.9788, -0.8054, -0.9817],\n",
      "       device='cuda:0', dtype=torch.float64)\n",
      "tensor([ 0.9956,  0.9956, -0.9956,  0.9956,  0.9956,  0.9956, -0.9960,  0.9956,\n",
      "        -0.9956, -0.9956,  0.9956, -0.9956,  0.9956,  0.9956, -0.9956, -0.9956,\n",
      "         0.9956,  0.9956,  0.9956, -0.9956, -0.9956,  0.9884,  0.9885,  0.9884],\n",
      "       device='cuda:0', dtype=torch.float64)\n",
      "tensor([-0.9992, -0.9930, -0.9990,  0.9849, -0.9992, -0.9974,  0.9989, -0.9970,\n",
      "         0.8006,  0.9990,  0.9964,  0.9985, -0.9990, -0.9974,  0.9985, -0.9990,\n",
      "         0.9559,  0.9979,  0.9983, -0.9992, -0.9970,  0.9975, -0.9961,  0.9991],\n",
      "       device='cuda:0', dtype=torch.float64)\n",
      "(10, 24, 3)\n"
     ]
    }
   ],
   "source": [
    "'''the same process_one_pcd vale function but with pytorch kmeans'''\n",
    "\n",
    "def torch_kmeans(dist_pts, k=10):\n",
    "    num_clus = k\n",
    "    model = KMeans(n_clusters= num_clus).cuda()\n",
    "    labels = model.fit_predict(dist_pts.unsqueeze(0).unsqueeze(2))\n",
    "    return labels\n",
    "\n",
    "def process_one_pcd(main_ind, point_ind=0):\n",
    "    all_pts = np.load(\"xyz_points.npy\")\n",
    "    all_norms = np.load(\"init_normals.npy\")\n",
    "    pts = all_pts[main_ind]\n",
    "    norms = all_norms[main_ind]\n",
    "    # print(pts.shape, norms.shape)\n",
    "    dists_ori, indices_ori = find_neighs(pts)\n",
    "    neighs = pts[indices_ori]\n",
    "    # labels_per_row = np.apply_along_axis(lambda row: ckwrap.ckmeans(row, 5).labels, 1, dists_ori)\n",
    "    dists_ori = torch.from_numpy(dists_ori).cuda()\n",
    "    dist_pts = dists_ori[point_ind]\n",
    "    labels_per_row = torch_kmeans(dist_pts, 10) # shape: (1, 249)\n",
    "\n",
    "    # print(labels_per_row.device) #this is on cuda:0\n",
    "    # return labels_per_row, neighs[0]\n",
    "\n",
    "    # print(f'using %d gpus: ', torch.cuda.device_count())\n",
    "    #pts to gpu\n",
    "    pts = torch.from_numpy(pts).cuda()\n",
    "    norms = torch.from_numpy(norms).cuda()\n",
    "    indices_ori = torch.from_numpy(indices_ori).cuda()\n",
    "    # labels_per_row = torch.from_numpy(labels_per_row).cuda()\n",
    "\n",
    "    i = point_ind\n",
    "    ind = indices_ori[i]\n",
    "    labels = labels_per_row.squeeze(0)\n",
    "    # print(labels.shape)\n",
    "    # for i,( ind, labels) in enumerate(zip(indices_ori, labels_per_row)):\n",
    "    center = pts[i]\n",
    "    mat = []\n",
    "    for clus in torch.unique(labels, dim=0):\n",
    "        # ind_clus = ind[np.where(labels == clus)]\n",
    "        ind_clus = ind[torch.where(labels==clus)]\n",
    "        coords = pts[ind_clus]\n",
    "\n",
    "        if(coords.shape[0] < 25):\n",
    "            # 2 random integers\n",
    "            for _ in range(25-(coords.shape[0])):\n",
    "                a, b = torch.randint(1, coords.shape[0], (2,))\n",
    "                a_n, b_n = torch.divide(a, (a+b)), torch.divide(b, (a+b))\n",
    "                rnd_pt = torch.add(torch.multiply(a_n, (center-coords[a])), torch.multiply(b_n, (center-coords[b]))).unsqueeze(0)\n",
    "                coords = torch.cat((coords, rnd_pt), dim=0)\n",
    "        else:\n",
    "            coords = coords[:25]\n",
    "        \n",
    "        # print(\"coords after adding random points: \", coords)\n",
    "\n",
    "        \n",
    "        vec2 = torch.subtract(center, coords)\n",
    "        closest_ind = torch.argmin(torch.linalg.norm(vec2, dim=1))\n",
    "        closest = coords[closest_ind]\n",
    "        vec1 = torch.subtract(center, closest)\n",
    "        vec2 = torch.cat((vec2[:closest_ind], vec2[closest_ind+1:]), dim=0)\n",
    "        vec1 = torch.divide(vec1, torch.linalg.norm(vec1))\n",
    "        vec2 = torch.divide(vec2, torch.linalg.norm(vec2, dim=1, keepdim=True))\n",
    "        crs_pdts = torch.cross(vec1.expand_as(vec2), vec2)\n",
    "        area = torch.linalg.norm(crs_pdts, dim=1)\n",
    "        crs_pdts = torch.divide(crs_pdts, torch.linalg.norm(crs_pdts, dim=1, keepdim=True))\n",
    "        dot_pdts = torch.tensordot(crs_pdts, norms[i].T, dims=1)\n",
    "        # print(dot_pdts)\n",
    "        sign = torch.divide(dot_pdts, torch.abs(dot_pdts))\n",
    "        area = torch.multiply(area, sign)\n",
    "        sort_indices = torch.argsort(area)\n",
    "        sorted_coords = coords[sort_indices]\n",
    "        \n",
    "        # return dot_pdts, area, crs_pdts, coords, sorted_coords, vec1, vec2, sign, closest, center, closest_ind\n",
    "        \n",
    "        mat.append(sorted_coords)\n",
    "        # print(\"device of mat: \", mat[-1].device)\n",
    "    mat = np.array([tensor.cpu().numpy() for tensor in mat])\n",
    "\n",
    "    return mat\n",
    "\n",
    "mat = process_one_pcd(0, 0)\n",
    "print(mat.shape)"
   ]
  },
  {
   "cell_type": "code",
   "execution_count": 148,
   "metadata": {},
   "outputs": [
    {
     "data": {
      "text/plain": [
       "torch.Size([1, 249])"
      ]
     },
     "execution_count": 148,
     "metadata": {},
     "output_type": "execute_result"
    }
   ],
   "source": [
    "mat.shape"
   ]
  },
  {
   "cell_type": "code",
   "execution_count": 139,
   "metadata": {},
   "outputs": [
    {
     "data": {
      "text/plain": [
       "array([-1.      ,  0.057022, 11.757051])"
      ]
     },
     "execution_count": 139,
     "metadata": {},
     "output_type": "execute_result"
    }
   ],
   "source": [
    "mat_pts[23]"
   ]
  },
  {
   "cell_type": "code",
   "execution_count": 142,
   "metadata": {},
   "outputs": [
    {
     "data": {
      "text/plain": [
       "array([5, 5, 5, 5, 5, 5, 5, 5, 2, 2, 2, 2, 2, 2, 2, 2, 2, 2, 2, 2, 2, 2,\n",
       "       2, 1, 1, 1, 1, 1, 1, 1, 1, 1, 1, 1, 1, 1, 1, 1, 1, 1, 1, 3, 3, 3,\n",
       "       3, 3, 3, 3, 3, 3, 3, 3, 3, 3, 3, 3, 3, 3, 3, 3, 3, 3, 3, 3, 3, 3,\n",
       "       3, 3, 8, 8, 8, 8, 8, 8, 8, 8, 8, 8, 8, 8, 8, 8, 8, 8, 8, 8, 8, 8,\n",
       "       8, 8, 9, 9, 9, 9, 9, 9, 9, 9, 9, 9, 9, 9, 9, 9, 9, 9, 9, 9, 9, 9,\n",
       "       9, 9, 9, 9, 9, 9, 9, 9, 9, 9, 9, 9, 9, 9, 9, 9, 6, 6, 6, 6, 6, 6,\n",
       "       6, 6, 6, 6, 6, 6, 6, 6, 6, 6, 6, 6, 6, 6, 6, 6, 6, 6, 6, 6, 6, 6,\n",
       "       6, 6, 6, 6, 6, 6, 6, 0, 0, 0, 0, 0, 0, 0, 0, 0, 0, 0, 0, 0, 0, 0,\n",
       "       0, 0, 0, 0, 0, 0, 0, 0, 0, 0, 0, 0, 0, 0, 0, 0, 4, 4, 4, 4, 4, 4,\n",
       "       4, 4, 4, 4, 4, 4, 4, 4, 4, 4, 4, 4, 4, 4, 4, 4, 4, 4, 4, 4, 4, 7,\n",
       "       7, 7, 7, 7, 7, 7, 7, 7, 7, 7, 7, 7, 7, 7, 7, 7, 7, 7, 7, 7, 7, 7,\n",
       "       7, 7, 7, 7, 7, 7, 7])"
      ]
     },
     "execution_count": 142,
     "metadata": {},
     "output_type": "execute_result"
    }
   ],
   "source": [
    "labels"
   ]
  },
  {
   "cell_type": "code",
   "execution_count": 144,
   "metadata": {},
   "outputs": [
    {
     "data": {
      "text/plain": [
       "(18,)"
      ]
     },
     "execution_count": 144,
     "metadata": {},
     "output_type": "execute_result"
    }
   ],
   "source": [
    "np.where(labels==1)[0].shape"
   ]
  },
  {
   "cell_type": "code",
   "execution_count": 147,
   "metadata": {},
   "outputs": [
    {
     "data": {
      "image/png": "[encoded data removed]",
      "text/plain": [
       "<Figure size 640x480 with 1 Axes>"
      ]
     },
     "metadata": {},
     "output_type": "display_data"
    }
   ],
   "source": [
    "import matplotlib.pyplot as plt\n",
    "from mpl_toolkits.mplot3d import Axes3D\n",
    "\n",
    "fig = plt.figure()\n",
    "ax = fig.add_subplot(111, projection='3d')\n",
    "\n",
    "\n",
    "labels = mat.squeeze(0).cpu().numpy()\n",
    "for i in range(labels.shape[0]):\n",
    "    clus_ps = mat_pts[np.where(labels==i)[0],:]\n",
    "    ax.scatter(clus_ps[:,0], clus_ps[:,1], clus_ps[:,2], marker='o')\n",
    "ax.scatter(all_pts[0][0][0], all_pts[0][0][1], all_pts[0][0][2], marker='x', c='black')\n",
    "\n",
    "plt.show()"
   ]
  },
  {
   "cell_type": "code",
   "execution_count": 163,
   "metadata": {},
   "outputs": [
    {
     "name": "stdout",
     "output_type": "stream",
     "text": [
      "torch.float64\n",
      "tensor([[ 0.0000,  5.1962, 10.3923],\n",
      "        [ 5.1962,  0.0000,  5.1962],\n",
      "        [10.3923,  5.1962,  0.0000]], dtype=torch.float64)\n"
     ]
    }
   ],
   "source": [
    "#checking cdist function\n",
    "from scipy.spatial.distance import cdist\n",
    "a = torch.tensor([[1,2,3],[4,5,6], [7,8,9]], dtype=torch.float64)\n",
    "# a = all_pts[0]\n",
    "print(a.dtype)\n",
    "print(torch.cdist(a, a))\n",
    "d = torch.cdist(a, a)"
   ]
  },
  {
   "cell_type": "code",
   "execution_count": 227,
   "metadata": {},
   "outputs": [
    {
     "name": "stdout",
     "output_type": "stream",
     "text": [
      "torch.Size([100000, 3])\n"
     ]
    },
    {
     "name": "stderr",
     "output_type": "stream",
     "text": [
      "/tmp/ipykernel_155082/3850879409.py:27: UserWarning: To copy construct from a tensor, it is recommended to use sourceTensor.clone().detach() or sourceTensor.clone().detach().requires_grad_(True), rather than torch.tensor(sourceTensor).\n",
      "  points_list = torch.tensor(points_list).float()\n"
     ]
    },
    {
     "name": "stdout",
     "output_type": "stream",
     "text": [
      "tensor([    0, 41263, 80395,  ..., 18049, 77117, 75568])\n"
     ]
    }
   ],
   "source": [
    "import torch\n",
    "from torch_cluster import knn\n",
    "\n",
    "def find_knn(points_list, k=3):\n",
    "    # Convert the list of 3D points to a PyTorch tensor\n",
    "    points_tensor = torch.tensor(points_list).float()\n",
    "    print(points_tensor)\n",
    "    # Transpose the input points to match the expected shape by knn\n",
    "    points_tensor = points_tensor.transpose(0, 1).contiguous()\n",
    "\n",
    "    # Use knn to find k-nearest neighbors\n",
    "    indices = knn(points_tensor, points_tensor, k=k)\n",
    "\n",
    "    return indices\n",
    "\n",
    "# Example usage\n",
    "points_list = [\n",
    "    [1.0, 2.0, 3.0],\n",
    "    [4.0, 5.0, 6.0],\n",
    "    [7.0, 8.0, 9.0],\n",
    "    # Add more points as needed\n",
    "]\n",
    "\n",
    "points_list = torch.tensor(all_pts[0])\n",
    "print(points_list.shape)\n",
    "k = 250\n",
    "points_list = torch.tensor(points_list).float()\n",
    "_,nearest_indices = knn(points_list, points_list, k)\n",
    "print(nearest_indices)\n"
   ]
  },
  {
   "cell_type": "code",
   "execution_count": 228,
   "metadata": {},
   "outputs": [
    {
     "name": "stdout",
     "output_type": "stream",
     "text": [
      "torch.Size([100000, 3])\n"
     ]
    },
    {
     "name": "stderr",
     "output_type": "stream",
     "text": [
      "/tmp/ipykernel_155082/1143905144.py:4: UserWarning: To copy construct from a tensor, it is recommended to use sourceTensor.clone().detach() or sourceTensor.clone().detach().requires_grad_(True), rather than torch.tensor(sourceTensor).\n",
      "  points_list = torch.tensor(points_list).float()\n"
     ]
    },
    {
     "name": "stdout",
     "output_type": "stream",
     "text": [
      "tensor([[    0,     0,     0,  ..., 99999, 99999, 99999],\n",
      "        [    0, 41263, 80395,  ..., 18049, 77117, 75568]])\n"
     ]
    }
   ],
   "source": [
    "points_list = torch.tensor(all_pts[0])\n",
    "print(points_list.shape)\n",
    "k = 250\n",
    "points_list = torch.tensor(points_list).float()\n",
    "nearest_indices = knn(points_list, points_list, k)\n",
    "print(nearest_indices)"
   ]
  },
  {
   "cell_type": "code",
   "execution_count": 208,
   "metadata": {},
   "outputs": [],
   "source": [
    "y = points_list[nearest_indices[0]] # y\n"
   ]
  },
  {
   "cell_type": "code",
   "execution_count": 209,
   "metadata": {},
   "outputs": [],
   "source": [
    "x = points_list[nearest_indices[1]] # x"
   ]
  },
  {
   "cell_type": "code",
   "execution_count": 210,
   "metadata": {},
   "outputs": [
    {
     "data": {
      "text/plain": [
       "tensor([0.0000, 0.0045, 0.0154,  ..., 0.1674, 0.1676, 0.1677])"
      ]
     },
     "execution_count": 210,
     "metadata": {},
     "output_type": "execute_result"
    }
   ],
   "source": [
    "d = torch.linalg.norm(x-y, dim=1)\n",
    "d"
   ]
  },
  {
   "cell_type": "code",
   "execution_count": 216,
   "metadata": {},
   "outputs": [],
   "source": [
    "d = d.reshape(-1,250)"
   ]
  },
  {
   "cell_type": "code",
   "execution_count": 217,
   "metadata": {},
   "outputs": [
    {
     "data": {
      "text/plain": [
       "torch.Size([100000, 250])"
      ]
     },
     "execution_count": 217,
     "metadata": {},
     "output_type": "execute_result"
    }
   ],
   "source": [
    "d.shape"
   ]
  },
  {
   "cell_type": "code",
   "execution_count": 218,
   "metadata": {},
   "outputs": [
    {
     "data": {
      "text/plain": [
       "tensor([[0.0000, 0.0045, 0.0154,  ..., 0.1700, 0.1707, 0.1710],\n",
       "        [0.0000, 0.0057, 0.0084,  ..., 0.1679, 0.1679, 0.1696],\n",
       "        [0.0000, 0.0099, 0.0103,  ..., 0.1808, 0.1809, 0.1819],\n",
       "        ...,\n",
       "        [0.0000, 0.0129, 0.0132,  ..., 0.1804, 0.1807, 0.1807],\n",
       "        [0.0000, 0.0022, 0.0058,  ..., 0.1766, 0.1766, 0.1770],\n",
       "        [0.0000, 0.0064, 0.0090,  ..., 0.1674, 0.1676, 0.1677]])"
      ]
     },
     "execution_count": 218,
     "metadata": {},
     "output_type": "execute_result"
    }
   ],
   "source": [
    "d"
   ]
  },
  {
   "cell_type": "code",
   "execution_count": 219,
   "metadata": {},
   "outputs": [
    {
     "data": {
      "text/plain": [
       "torch.Size([2, 25000000])"
      ]
     },
     "execution_count": 219,
     "metadata": {},
     "output_type": "execute_result"
    }
   ],
   "source": [
    "nearest_indices.shape"
   ]
  },
  {
   "cell_type": "code",
   "execution_count": 223,
   "metadata": {},
   "outputs": [
    {
     "data": {
      "text/plain": [
       "tensor([[    0, 41263, 80395,  ..., 82976, 73012, 62778],\n",
       "        [    1,  3418, 83479,  ..., 64957, 39156, 10338],\n",
       "        [    2, 71764, 96298,  ..., 57339, 24104, 51253],\n",
       "        ...,\n",
       "        [99997, 32263, 46031,  ..., 12416, 48691, 67251],\n",
       "        [99998, 32976, 90715,  ..., 66461, 72973, 14037],\n",
       "        [99999, 98423, 67891,  ..., 18049, 77117, 75568]])"
      ]
     },
     "execution_count": 223,
     "metadata": {},
     "output_type": "execute_result"
    }
   ],
   "source": [
    "i = nearest_indices[1].reshape(-1,250)\n",
    "i"
   ]
  },
  {
   "cell_type": "code",
   "execution_count": 225,
   "metadata": {},
   "outputs": [],
   "source": [
    "i = i[:,1:]"
   ]
  },
  {
   "cell_type": "code",
   "execution_count": 226,
   "metadata": {},
   "outputs": [
    {
     "data": {
      "text/plain": [
       "tensor([[41263, 80395, 25088,  ..., 82976, 73012, 62778],\n",
       "        [ 3418, 83479, 52232,  ..., 64957, 39156, 10338],\n",
       "        [71764, 96298, 44155,  ..., 57339, 24104, 51253],\n",
       "        ...,\n",
       "        [32263, 46031, 52627,  ..., 12416, 48691, 67251],\n",
       "        [32976, 90715, 69411,  ..., 66461, 72973, 14037],\n",
       "        [98423, 67891, 72500,  ..., 18049, 77117, 75568]])"
      ]
     },
     "execution_count": 226,
     "metadata": {},
     "output_type": "execute_result"
    }
   ],
   "source": [
    "i"
   ]
  },
  {
   "cell_type": "code",
   "execution_count": 4,
   "metadata": {},
   "outputs": [],
   "source": [
    "import torch\n",
    "from torch_cluster import knn\n",
    "\n",
    "def find_neighs_torch(points, k=250):\n",
    "    points = torch.from_numpy(points).cuda()\n",
    "    all_indices = knn(points, points, k=k).cuda()\n",
    "    y = points[all_indices[0]]\n",
    "    x = points[all_indices[1]]\n",
    "    dists = torch.linalg.norm(y-x, dim=1)\n",
    "    dists = dists.reshape(-1,250)\n",
    "    indices = all_indices[1].reshape(-1,250)\n",
    "    dists = dists.cpu().numpy()\n",
    "    indices = indices.cpu().numpy()\n",
    "    return dists[:,1:], indices[:,1:]"
   ]
  },
  {
   "cell_type": "code",
   "execution_count": 5,
   "metadata": {},
   "outputs": [
    {
     "ename": "RuntimeError",
     "evalue": "The following operation failed in the TorchScript interpreter.\nTraceback of TorchScript (most recent call last):\n  File \"/home/cvig_5/anaconda3/envs/pytorch3d/lib/python3.9/site-packages/torch_cluster/knn.py\", line 72, in knn\n        ptr_y = torch.bucketize(arange, batch_y)\n\n    return torch.ops.torch_cluster.knn(x, y, ptr_x, ptr_y, k, cosine,\n           ~~~~~~~~~~~~~~~~~~~~~~~~~~~ <--- HERE\n                                       num_workers)\nRuntimeError: k <= 100 INTERNAL ASSERT FAILED at \"csrc/cuda/knn_cuda.cu\":98, please report a bug to PyTorch. `k` needs to smaller than or equal to 100\n",
     "output_type": "error",
     "traceback": [
      "\u001b[0;31m---------------------------------------------------------------------------\u001b[0m",
      "\u001b[0;31mRuntimeError\u001b[0m                              Traceback (most recent call last)",
      "Cell \u001b[0;32mIn[5], line 1\u001b[0m\n\u001b[0;32m----> 1\u001b[0m \u001b[43mfind_neighs_torch\u001b[49m\u001b[43m(\u001b[49m\u001b[43mall_pts\u001b[49m\u001b[43m[\u001b[49m\u001b[38;5;241;43m0\u001b[39;49m\u001b[43m]\u001b[49m\u001b[43m)\u001b[49m\n",
      "Cell \u001b[0;32mIn[4], line 6\u001b[0m, in \u001b[0;36mfind_neighs_torch\u001b[0;34m(points, k)\u001b[0m\n\u001b[1;32m      4\u001b[0m \u001b[38;5;28;01mdef\u001b[39;00m \u001b[38;5;21mfind_neighs_torch\u001b[39m(points, k\u001b[38;5;241m=\u001b[39m\u001b[38;5;241m250\u001b[39m):\n\u001b[1;32m      5\u001b[0m     points \u001b[38;5;241m=\u001b[39m torch\u001b[38;5;241m.\u001b[39mfrom_numpy(points)\u001b[38;5;241m.\u001b[39mcuda()\n\u001b[0;32m----> 6\u001b[0m     all_indices \u001b[38;5;241m=\u001b[39m \u001b[43mknn\u001b[49m\u001b[43m(\u001b[49m\u001b[43mpoints\u001b[49m\u001b[43m,\u001b[49m\u001b[43m \u001b[49m\u001b[43mpoints\u001b[49m\u001b[43m,\u001b[49m\u001b[43m \u001b[49m\u001b[43mk\u001b[49m\u001b[38;5;241;43m=\u001b[39;49m\u001b[43mk\u001b[49m\u001b[43m)\u001b[49m\u001b[38;5;241m.\u001b[39mcuda()\n\u001b[1;32m      7\u001b[0m     y \u001b[38;5;241m=\u001b[39m points[all_indices[\u001b[38;5;241m0\u001b[39m]]\n\u001b[1;32m      8\u001b[0m     x \u001b[38;5;241m=\u001b[39m points[all_indices[\u001b[38;5;241m1\u001b[39m]]\n",
      "\u001b[0;31mRuntimeError\u001b[0m: The following operation failed in the TorchScript interpreter.\nTraceback of TorchScript (most recent call last):\n  File \"/home/cvig_5/anaconda3/envs/pytorch3d/lib/python3.9/site-packages/torch_cluster/knn.py\", line 72, in knn\n        ptr_y = torch.bucketize(arange, batch_y)\n\n    return torch.ops.torch_cluster.knn(x, y, ptr_x, ptr_y, k, cosine,\n           ~~~~~~~~~~~~~~~~~~~~~~~~~~~ <--- HERE\n                                       num_workers)\nRuntimeError: k <= 100 INTERNAL ASSERT FAILED at \"csrc/cuda/knn_cuda.cu\":98, please report a bug to PyTorch. `k` needs to smaller than or equal to 100\n"
     ]
    }
   ],
   "source": [
    "find_neighs_torch(all_pts[0])"
   ]
  },
  {
   "cell_type": "code",
   "execution_count": 6,
   "metadata": {},
   "outputs": [],
   "source": [
    "import torch\n",
    "from torch_cluster import knn\n",
    "\n",
    "def find_neighs_torch(points, k=250):\n",
    "    points = torch.from_numpy(points)\n",
    "    all_indices = knn(points, points, k=k)\n",
    "    y = points[all_indices[0]]\n",
    "    x = points[all_indices[1]]\n",
    "    dists = torch.linalg.norm(y-x, dim=1)\n",
    "    dists = dists.reshape(-1,250)\n",
    "    indices = all_indices[1].reshape(-1,250)\n",
    "    # dists = dists.cpu().numpy()\n",
    "    # indices = indices.cpu().numpy()\n",
    "    return dists[:,1:], indices[:,1:]"
   ]
  },
  {
   "cell_type": "code",
   "execution_count": 7,
   "metadata": {},
   "outputs": [
    {
     "data": {
      "text/plain": [
       "(tensor([[0.0045, 0.0154, 0.0185,  ..., 0.1700, 0.1707, 0.1710],\n",
       "         [0.0057, 0.0084, 0.0114,  ..., 0.1679, 0.1679, 0.1696],\n",
       "         [0.0099, 0.0103, 0.0253,  ..., 0.1808, 0.1809, 0.1819],\n",
       "         ...,\n",
       "         [0.0130, 0.0132, 0.0160,  ..., 0.1804, 0.1807, 0.1807],\n",
       "         [0.0022, 0.0058, 0.0132,  ..., 0.1766, 0.1766, 0.1770],\n",
       "         [0.0064, 0.0090, 0.0175,  ..., 0.1674, 0.1676, 0.1677]],\n",
       "        dtype=torch.float64),\n",
       " tensor([[41263, 80395, 25088,  ..., 82976, 73012, 62778],\n",
       "         [ 3418, 83479, 52232,  ..., 64957, 39156, 10338],\n",
       "         [71764, 96298, 44155,  ..., 57339, 24104, 51253],\n",
       "         ...,\n",
       "         [32263, 46031, 52627,  ..., 12416, 48691, 67251],\n",
       "         [32976, 90715, 69411,  ..., 66461, 72973, 14037],\n",
       "         [98423, 67891, 72500,  ..., 18049, 77117, 75568]]))"
      ]
     },
     "execution_count": 7,
     "metadata": {},
     "output_type": "execute_result"
    }
   ],
   "source": [
    "find_neighs_torch(all_pts[0])"
   ]
  },
  {
   "cell_type": "code",
   "execution_count": null,
   "metadata": {},
   "outputs": [],
   "source": [
    "# checking the benefits of parallel and delayed func\n",
    "\n",
    "def process_one_pcd(main_ind, point_ind=0):\n",
    "    all_pts = np.load(\"xyz_points.npy\")\n",
    "    all_norms = np.load(\"init_normals.npy\")\n",
    "    pts = all_pts[main_ind]\n",
    "    norms = all_norms[main_ind]\n",
    "    print(\"in process_pcd:\", pts.shape, norms.shape, main_ind, point_ind)\n",
    "    para_ans = Parallel(n_jobs=-1)(delayed(find_neighs_torch)(pts))\n",
    "    return para_ans\n",
    "    # neighs = pts[indices_ori]\n",
    "    # # labels_per_row = np.apply_along_axis(lambda row: ckwrap.ckmeans(row, 5).labels, 1, dists_ori)\n",
    "    # # dists_ori = torch.from_numpy(dists_ori).cuda()\n",
    "    # dist_pts = dists_ori[point_ind]\n",
    "    # labels_per_row = torch_kmeans(dist_pts, 10) # shape: (1, 249)\n",
    "\n",
    "    # # print(labels_per_row.device) #this is on cuda:0\n",
    "    # # return labels_per_row, neighs[0]\n",
    "\n",
    "    # # print(f'using %d gpus: ', torch.cuda.device_count())\n",
    "   \n",
    "    # pts = torch.from_numpy(pts).cuda()\n",
    "    # norms = torch.from_numpy(norms).cuda()\n",
    "    # # indices_ori = torch.from_numpy(indices_ori).cuda()\n",
    "    # # labels_per_row = torch.from_numpy(labels_per_row).cuda()\n",
    "\n",
    "    # i = point_ind\n",
    "    # ind = indices_ori[i]\n",
    "    # labels = labels_per_row.squeeze(0)\n",
    "    # # print(labels.shape)\n",
    "    # # for i,( ind, labels) in enumerate(zip(indices_ori, labels_per_row)):\n",
    "    # center = pts[i]\n",
    "    # mat = []\n",
    "    # for clus in torch.unique(labels, dim=0):\n",
    "    #     # ind_clus = ind[np.where(labels == clus)]\n",
    "    #     ind_clus = ind[torch.where(labels==clus)]\n",
    "    #     coords = pts[ind_clus]\n",
    "\n",
    "    #     if(coords.shape[0] < 25):\n",
    "    #         # 2 random integers\n",
    "    #         for _ in range(25-(coords.shape[0])):\n",
    "    #             a, b = torch.randint(1, coords.shape[0], (2,))\n",
    "    #             a_n, b_n = torch.divide(a, (a+b)), torch.divide(b, (a+b))\n",
    "    #             rnd_pt = torch.add(torch.multiply(a_n, (center-coords[a])), torch.multiply(b_n, (center-coords[b]))).unsqueeze(0)\n",
    "    #             coords = torch.cat((coords, rnd_pt), dim=0)\n",
    "    #     else:\n",
    "    #         coords = coords[:25]\n",
    "        \n",
    "    #     # print(\"coords after adding random points: \", coords)\n",
    "\n",
    "        \n",
    "    #     vec2 = torch.subtract(center, coords)\n",
    "    #     closest_ind = torch.argmin(torch.linalg.norm(vec2, dim=1))\n",
    "    #     closest = coords[closest_ind]\n",
    "    #     vec1 = torch.subtract(center, closest)\n",
    "    #     vec2 = torch.cat((vec2[:closest_ind], vec2[closest_ind+1:]), dim=0)\n",
    "    #     vec1 = torch.divide(vec1, torch.linalg.norm(vec1))\n",
    "    #     vec2 = torch.divide(vec2, torch.linalg.norm(vec2, dim=1, keepdim=True))\n",
    "    #     crs_pdts = torch.cross(vec1.expand_as(vec2), vec2)\n",
    "    #     area = torch.linalg.norm(crs_pdts, dim=1)\n",
    "    #     crs_pdts = torch.divide(crs_pdts, torch.linalg.norm(crs_pdts, dim=1, keepdim=True))\n",
    "    #     dot_pdts = torch.tensordot(crs_pdts, norms[i].T, dims=1)\n",
    "    #     # print(dot_pdts)\n",
    "    #     sign = torch.divide(dot_pdts, torch.abs(dot_pdts))\n",
    "    #     area = torch.multiply(area, sign)\n",
    "    #     sort_indices = torch.argsort(area)\n",
    "    #     sorted_coords = coords[sort_indices]\n",
    "        \n",
    "    #     # return dot_pdts, area, crs_pdts, coords, sorted_coords, vec1, vec2, sign, closest, center, closest_ind\n",
    "        \n",
    "    #     mat.append(sorted_coords)\n",
    "    #     # print(\"device of mat: \", mat[-1].device)\n",
    "    # mat = np.array([tensor.cpu().numpy() for tensor in mat])\n",
    "\n",
    "    # return mat"
   ]
  }
 ],
 "metadata": {
  "kernelspec": {
   "display_name": "pytorch3d",
   "language": "python",
   "name": "python3"
  },
  "language_info": {
   "codemirror_mode": {
    "name": "ipython",
    "version": 3
   },
   "file_extension": ".py",
   "mimetype": "text/x-python",
   "name": "python",
   "nbconvert_exporter": "python",
   "pygments_lexer": "ipython3",
   "version": "3.9.18"
  }
 },
 "nbformat": 4,
 "nbformat_minor": 2
}
