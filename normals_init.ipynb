{
 "cells": [
  {
   "cell_type": "code",
   "execution_count": 1,
   "metadata": {},
   "outputs": [
    {
     "name": "stdout",
     "output_type": "stream",
     "text": [
      "Jupyter environment detected. Enabling Open3D WebVisualizer.\n",
      "[Open3D INFO] WebRTC GUI backend enabled.\n",
      "[Open3D INFO] WebRTCWindowSystem: HTTP handshake server disabled.\n",
      "(381, 100000, 3) (381, 100000, 3)\n"
     ]
    }
   ],
   "source": [
    "import numpy as np \n",
    "from joblib import Parallel, delayed\n",
    "from sklearn.decomposition import PCA\n",
    "from sklearn.neighbors import NearestNeighbors\n",
    "import open3d as o3d\n",
    "from scipy.optimize import minimize\n",
    "from scipy.linalg import lstsq\n",
    "import os\n",
    "\n",
    "pcd_list = np.load(\"xyz_files.npy\")\n",
    "normals_list = np.load(\"normals_files.npy\")\n",
    "\n",
    "pcds=[]\n",
    "norms = []\n",
    "for pcd, normals in zip(pcd_list, normals_list):\n",
    "    pcds.append(np.loadtxt(pcd))\n",
    "    norms.append(np.loadtxt(normals))\n",
    "pcds = np.array(pcds)\n",
    "norms = np.array(norms)\n",
    "print(pcds.shape, norms.shape)"
   ]
  },
  {
   "cell_type": "code",
   "execution_count": 7,
   "metadata": {},
   "outputs": [],
   "source": [
    "init_norms =[]\n",
    "def find_neighs(points, k=250):\n",
    "    nbrs = NearestNeighbors(n_neighbors=k, algorithm= 'kd_tree').fit(points)\n",
    "    distances, indices = nbrs.kneighbors(points) \n",
    "    return distances, indices\n",
    "\n",
    "def pca_plane(points):\n",
    "    # print(points.shape)\n",
    "    pca = PCA(n_components=3)\n",
    "    pca.fit(points)\n",
    "    return pca.components_[2]/np.linalg.norm(pca.components_[2])\n",
    "\n",
    "def process_pcd(pcd):\n",
    "    _, indices = find_neighs(pcd, 250)\n",
    "    neighs = pcd[indices]\n",
    "    norm_esti_pca = Parallel(n_jobs=-1)(delayed(pca_plane)(point_neighs) for point_neighs in neighs)\n",
    "    return np.array(norm_esti_pca)\n",
    "    \n",
    "\n",
    "for pcd in pcds:\n",
    "    init_norms.append(process_pcd(pcd))\n",
    "    \n",
    "# np.save(\"init_norms.npy\", np.array(init_norms))\n"
   ]
  },
  {
   "cell_type": "code",
   "execution_count": 8,
   "metadata": {},
   "outputs": [
    {
     "data": {
      "text/plain": [
       "(100000, 3)"
      ]
     },
     "execution_count": 8,
     "metadata": {},
     "output_type": "execute_result"
    }
   ],
   "source": [
    "init_norms[0].shape"
   ]
  },
  {
   "cell_type": "code",
   "execution_count": 4,
   "metadata": {},
   "outputs": [
    {
     "name": "stdout",
     "output_type": "stream",
     "text": [
      "(100000, 250, 3)\n"
     ]
    }
   ],
   "source": [
    "\n",
    "dists, indices = find_neighs(pcds[0], 250)\n",
    "# print(pcd[indices].shape)\n",
    "neighs = pcds[0][indices]\n",
    "print(neighs.shape)\n",
    "# norm_esti_pca = Parallel(n_jobs=-1)(delayed(pca_plane)(point_neighs) for point_neighs in neighs)\n",
    "\n",
    "# norm_= normals/np.linalg.norm(normals[:300,:], axis=1)[:300,np.newaxis]\n",
    "# dot_pca = np.diag(np.dot(norm_esti_pca[:300,:] , norm_.T)).mean()\n",
    "\n",
    "# print(dot_pca, dot_ls, dot_min)"
   ]
  },
  {
   "cell_type": "code",
   "execution_count": 2,
   "metadata": {},
   "outputs": [
    {
     "name": "stdout",
     "output_type": "stream",
     "text": [
      "(381, 100000, 3)\n",
      "(381, 100000, 3)\n"
     ]
    }
   ],
   "source": [
    "import numpy as np \n",
    "init_norms = np.load(\"init_normals.npy\")\n",
    "print(init_norms.shape)\n",
    "ori_norms_paths = np.load(\"normals_files.npy\")\n",
    "ori_norms = []\n",
    "for ori_norms_path in ori_norms_paths:\n",
    "    ori_norms.append(np.loadtxt(ori_norms_path))\n",
    "ori_norms = np.array(ori_norms)\n",
    "print(ori_norms.shape)"
   ]
  },
  {
   "cell_type": "code",
   "execution_count": 6,
   "metadata": {},
   "outputs": [
    {
     "name": "stdout",
     "output_type": "stream",
     "text": [
      "(381, 100000, 3)\n"
     ]
    }
   ],
   "source": [
    "xyz_paths = np.load(\"xyz_files.npy\")\n",
    "xyzs = []\n",
    "for xyz_path in xyz_paths:\n",
    "    xyzs.append(np.loadtxt(xyz_path))\n",
    "xyzs = np.array(xyzs)\n",
    "print(xyzs.shape)\n",
    "# np.save(\"xyzs.npy\", xyzs)"
   ]
  },
  {
   "cell_type": "code",
   "execution_count": 5,
   "metadata": {},
   "outputs": [],
   "source": [
    "# np.save(\"origianl_normals.npy\", ori_norms)"
   ]
  },
  {
   "cell_type": "code",
   "execution_count": 3,
   "metadata": {},
   "outputs": [
    {
     "name": "stdout",
     "output_type": "stream",
     "text": [
      "0.9291552780560308\n"
     ]
    }
   ],
   "source": [
    "import torch\n",
    "# ori_norms = torch.from_numpy(ori_norms)\n",
    "# init_norms = torch.from_numpy(init_norms)\n",
    "sum=0\n",
    "for i in range(ori_norms.shape[0]):\n",
    "    dot = np.absolute(np.diag(np.dot(ori_norms[i][:300,:], init_norms[i][:300,:].T)))\n",
    "    sum+=dot.mean()\n",
    "print(sum/ori_norms.shape[0])"
   ]
  },
  {
   "cell_type": "code",
   "execution_count": 29,
   "metadata": {},
   "outputs": [],
   "source": [
    "import open3d as o3d\n",
    "\n",
    "pcd = o3d.geometry.PointCloud()\n",
    "pcd.points = o3d.utility.Vector3dVector(xyzs[232])\n",
    "pcd.normals = o3d.utility.Vector3dVector(init_norms[232])\n",
    "o3d.visualization.draw_geometries([pcd], point_show_normal=True)"
   ]
  },
  {
   "cell_type": "code",
   "execution_count": null,
   "metadata": {},
   "outputs": [
    {
     "ename": "",
     "evalue": "",
     "output_type": "error",
     "traceback": [
      "\u001b[1;31mThe Kernel crashed while executing code in the the current cell or a previous cell. Please review the code in the cell(s) to identify a possible cause of the failure. Click <a href='https://aka.ms/vscodeJupyterKernelCrash'>here</a> for more info. View Jupyter <a href='command:jupyter.viewOutput'>log</a> for further details."
     ]
    }
   ],
   "source": [
    "import os\n",
    "os._exit(00)"
   ]
  },
  {
   "cell_type": "code",
   "execution_count": null,
   "metadata": {},
   "outputs": [],
   "source": []
  }
 ],
 "metadata": {
  "kernelspec": {
   "display_name": "pytorch3d",
   "language": "python",
   "name": "python3"
  },
  "language_info": {
   "codemirror_mode": {
    "name": "ipython",
    "version": 3
   },
   "file_extension": ".py",
   "mimetype": "text/x-python",
   "name": "python",
   "nbconvert_exporter": "python",
   "pygments_lexer": "ipython3",
   "version": "3.9.18"
  }
 },
 "nbformat": 4,
 "nbformat_minor": 2
}
